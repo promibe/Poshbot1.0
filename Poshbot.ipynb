{
 "cells": [
  {
   "cell_type": "markdown",
   "id": "76dea38d-4b05-49d1-b732-530ec952eb4f",
   "metadata": {},
   "source": [
    "## <center>Poshbot</center>"
   ]
  },
  {
   "cell_type": "code",
   "execution_count": 1,
   "id": "0f3eb84a-d1e7-4c84-b97a-b6fdf5e74dd5",
   "metadata": {},
   "outputs": [],
   "source": [
    "# intents\n",
    "# 1. Greetings\n",
    "# 2. enrollment\n",
    "# 3. pricing\n",
    "# 4. Track\n",
    "# 5. Fallback_input"
   ]
  },
  {
   "cell_type": "code",
   "execution_count": 39,
   "id": "0afa6345-0e00-41ef-a5a4-23939610cb83",
   "metadata": {},
   "outputs": [],
   "source": []
  },
  {
   "cell_type": "code",
   "execution_count": 1,
   "id": "ccd5d2ca-990a-493d-a59d-fab74dd9875c",
   "metadata": {},
   "outputs": [],
   "source": [
    "# Intent mapping\n",
    "target_response = {\n",
    "    0: 'greetings',\n",
    "    1: 'enrollment',\n",
    "    2: 'pricing',\n",
    "    3: 'tracking',\n",
    "    4: 'fallback'\n",
    "}\n",
    "\n",
    "# Response templates\n",
    "fallback_responses = [\n",
    "    \"Sorry, I didn’t quite understand that. Can you rephrase, read my previous prompt and respond accordingly?\",\n",
    "    \"Hmm, I'm not sure what you mean. Try asking about enrollment or pricing, read my previous prompt and respond accordingly.\",\n",
    "    \"Let’s try that again. Ask about courses, prices, or tracking progress, read my previous prompt and respond accordingly\"\n",
    "]\n",
    "\n",
    "response = {\n",
    "    'greetings': [\n",
    "        \"Nice, you are very much welcome to Poshem! What do you want to do?\\n\"\n",
    "        \"- Register for a course?\\n- Check the price of our courses?\\n- Confirm your registered courses?\"\n",
    "    ],\n",
    "    'enrollment': (\n",
    "        \"Kindly request for the course you want to register in this format:\\n\"\n",
    "        \"(e.g.) I am Promise, Date of birth, B-Tech Computer Science.\\n\"\n",
    "        \"phone number: 07063083925.\\n\"\n",
    "        \"I want to learn Excel.\"\n",
    "    ),\n",
    "    'pricing': \"Our pricing varies by course. Here is the breakdown...\",\n",
    "    'tracking': \"To track your course, kindly let me know your ID.\",\n",
    "    'fallback': fallback_responses\n",
    "}"
   ]
  },
  {
   "cell_type": "code",
   "execution_count": 40,
   "id": "175cfe60-804d-4728-963d-05666a7c6c1d",
   "metadata": {},
   "outputs": [],
   "source": []
  },
  {
   "cell_type": "code",
   "execution_count": 73,
   "id": "3133f9f0-b370-45bf-8f92-73f7a80d39b4",
   "metadata": {},
   "outputs": [],
   "source": []
  },
  {
   "cell_type": "code",
   "execution_count": 119,
   "id": "6048e5fd-74f2-4253-bf11-fb4305603fbd",
   "metadata": {},
   "outputs": [],
   "source": [
    "#---------------------------------------------------------USER PROFILE EXTRACTOR-----------------------------------------\n",
    "\n",
    "# Load spaCy model\n",
    "nlp = spacy.load('en_core_web_lg') \n",
    "# Remove default NER to use custom recognition\n",
    "if \"ner\" in nlp.pipe_names:\n",
    "    nlp.remove_pipe(\"ner\")\n",
    "\n",
    "# Add EntityRuler for course and email\n",
    "ruler = nlp.add_pipe(\"entity_ruler\", first=True)\n",
    "\n",
    "# Define custom course list\n",
    "courses = [\n",
    "    \"Excel\", \"Powerbi\", \"SQL\", \"PostgresSql\", \"Python Beginners\",\n",
    "    \"Advance Python for Data Analysis\", \"Python for Data Analysis\",\n",
    "    \"Data Science\", \"Machine Learning\",\n",
    "    \"Database Administrator\", \"Azure DevOps\", \"AWS Devops\"\n",
    "]\n",
    "\n",
    "course_patterns = [{\"label\": \"COURSE\", \"pattern\": course} for course in courses]\n",
    "email_patterns = [{\"label\": \"EMAIL\", \"pattern\": [{\"LIKE_EMAIL\": True}]}]\n",
    "ruler.add_patterns(course_patterns + email_patterns)\n",
    "\n",
    "# Add Matcher for name, DOB, qualification, and phone\n",
    "matcher = Matcher(nlp.vocab)\n",
    "\n",
    "matcher.add(\"NAME\", [[\n",
    "    {\"LOWER\": \"i\"},\n",
    "    {\"LOWER\": \"a\"},\n",
    "    {\"IS_TITLE\": True, \"OP\": \"+\"}\n",
    "]])\n",
    "\n",
    "matcher.add(\"DOB\", [[\n",
    "    {\"LOWER\": \"born\"},\n",
    "    {\"LOWER\": \"on\"},\n",
    "    {\"IS_TITLE\": True, \"OP\": \"+\"},\n",
    "    {\"TEXT\": {\"REGEX\": r\"^\\d{1,2}(st|nd|rd|th)?$\"}, \"OP\": \"?\"},\n",
    "    {\"IS_DIGIT\": True, \"OP\": \"?\"}\n",
    "]])\n",
    "\n",
    "matcher.add(\"PHONE\", [[\n",
    "    {\"LOWER\": \"phone\"},\n",
    "    {\"LOWER\": \"number\"},\n",
    "    {\"IS_PUNCT\": True, \"OP\": \"?\"},\n",
    "    {\"TEXT\": {\"REGEX\": r\"^\\d{11}$\"}}\n",
    "]])\n",
    "\n",
    "matcher.add(\"QUALIFICATION\", [[\n",
    "    {\"TEXT\": {\"REGEX\": r\"^[A-Z][-.A-Za-z]+$\"}},\n",
    "    {\"IS_TITLE\": True, \"OP\": \"+\"}\n",
    "]])\n",
    "\n",
    "#-------------------------------------------------------------------BOT FUNCTIONS-----------------------------------------\n",
    "\n",
    "# Function to simulate intent prediction\n",
    "def user_input_to_model(user_input):\n",
    "    vector = nlp(user_input).vector\n",
    "    predicted_intent = loaded_pipeline.predict([vector])[0]  # Extract single prediction\n",
    "    return predicted_intent\n",
    "\n",
    "# Function to generate bot response\n",
    "def response_function(user_intent):\n",
    "    intent_label = target_response.get(user_intent, 'fallback')\n",
    "\n",
    "    if intent_label == 'fallback':\n",
    "        return np.random.choice(response['fallback'])\n",
    "\n",
    "    reply = response.get(intent_label)\n",
    "    return reply[0] if isinstance(reply, list) else reply\n",
    "\n",
    "# Chat history logging function\n",
    "def log_interaction(user_input, predicted_intent, bot_response):\n",
    "    log_entry = {\n",
    "        \"timestamp\": datetime.now().isoformat(),\n",
    "        \"user_input\": user_input,\n",
    "        \"predicted_intent\": target_response.get(predicted_intent, 'fallback'),\n",
    "        \"bot_response\": bot_response\n",
    "    }\n",
    "    logging.info(json.dumps(log_entry))\n",
    "\n",
    "#-----------------------------------------------------------------USER EXTRACTION FUNCTION-------------------------------------\n",
    "\n",
    "# Function to extract profile data from user input\n",
    "def extract_profile(user_input):\n",
    "    doc = nlp(user_input)\n",
    "\n",
    "    # Apply matcher\n",
    "    matches = matcher(doc)\n",
    "\n",
    "    # Initialize extracted data\n",
    "    name, dob, qualification, phone_number, email, course = None, None, None, None, None, []\n",
    "\n",
    "    # Process matches\n",
    "    for match_id, start, end in matches:\n",
    "        span = doc[start:end]\n",
    "        label = nlp.vocab.strings[match_id]\n",
    "\n",
    "        if label == \"NAME\":\n",
    "            name = span.text.replace(\"I am\", \"\").strip()\n",
    "        elif label == \"DOB\":\n",
    "            dob = span.text.replace(\"born on\", \"\").strip()\n",
    "        elif label == \"QUALIFICATION\":\n",
    "            qualification = span.text\n",
    "        elif label == \"PHONE\":\n",
    "            phone_number = span[-1].text\n",
    "\n",
    "    # Extract email & course via ruler\n",
    "    for ent in doc.ents:\n",
    "        if ent.label_ == \"EMAIL\":\n",
    "            email = ent.text\n",
    "        elif ent.label_ == \"COURSE\":\n",
    "            course.append(ent.text)\n",
    "\n",
    "    return name, dob, qualification, phone_number, email, course\n",
    "\n",
    "#--------------------------------------------------------POSHBOT------------------------------------------------\n",
    "    \n",
    "\n",
    "def Poshbot():\n",
    "    print(\"Bot 🤖: Hello! Welcome to Poshem Technologies, a fair greeting will be okay for us to attend to you:\")\n",
    "\n",
    "    # Variable to track the state of registration\n",
    "    in_registration = False\n",
    "    completed_registration = False\n",
    "    while True:\n",
    "        if completed_registration == False:\n",
    "            user_input = input(\"You 🫥: \").strip()\n",
    "    \n",
    "        if user_input.lower() in [\"i am done\", \"exit\", \"quit\"]:\n",
    "            print(\"Bot 🤖: Thanks for choosing Poshem Technologies Institution. This is your course ID. You'll get a mail from us shortly\")\n",
    "            break\n",
    "    \n",
    "        try:\n",
    "            predicted_intent = user_input_to_model(user_input)\n",
    "            bot_response = response_function(predicted_intent)\n",
    "            \n",
    "            print(f\"Bot 🤖: {bot_response} {in_registration}\") ### print the intent response\n",
    "\n",
    "            # If user is in the registration phase, extract profile details\n",
    "            if predicted_intent == 'enrollment':\n",
    "                in_registration = True\n",
    "                try:\n",
    "                    name, dob, qualification, phone_number, email, course = extract_profile(user_input)\n",
    "                    # Save the extracted details into appropriate variables\n",
    "                    print(f\"Bot 🤖: Thank you for the details! Here's your profile: \")\n",
    "                    print(f\"Name: {name}\")\n",
    "                    print(f\"DOB: {dob}\")\n",
    "                    print(f\"Qualification: {qualification}\")\n",
    "                    print(f\"Phone: {phone_number}\")\n",
    "                    print(f\"Email: {email}\")\n",
    "                    print(f\"Course: {course}\")\n",
    "                    # Complete registration or proceed with the next steps\n",
    "                    \n",
    "                    print(\"Bot 🤖: Your registration is complete!\")\n",
    "                except Exception as e:\n",
    "                    print(\"Bot 🤖: Sorry, I couldn't process your enrollment details. Please try again.\")\n",
    "\n",
    "            if in_registration == True:\n",
    "                print(\"Bot 🤖: What else do you want to do, else kindly say i am doneexit or quit\")\n",
    "                \n",
    "            # Log the conversation\n",
    "            log_interaction(user_input, predicted_intent, bot_response)\n",
    "\n",
    "        except Exception as e:\n",
    "            print(\"Bot 🤖: Sorry, I couldn't process that. Please try again or ask for help.\")\n",
    "            "
   ]
  },
  {
   "cell_type": "code",
   "execution_count": null,
   "id": "90492388-1ee0-4c31-a1fe-fb98a9996413",
   "metadata": {},
   "outputs": [],
   "source": []
  },
  {
   "cell_type": "code",
   "execution_count": 121,
   "id": "857657e1-3aef-4d31-bd39-e602298e3634",
   "metadata": {
    "scrolled": true
   },
   "outputs": [
    {
     "name": "stdout",
     "output_type": "stream",
     "text": [
      "Bot 🤖: Hello! Welcome to Poshem Technologies, a fair greeting will be okay for us to attend to you:\n"
     ]
    },
    {
     "name": "stdin",
     "output_type": "stream",
     "text": [
      "You 🫥:  hi\n"
     ]
    },
    {
     "name": "stdout",
     "output_type": "stream",
     "text": [
      "Bot 🤖: Nice, you are very much welcome to Poshem! What do you want to do?\n",
      "- Register for a course?\n",
      "- Check the price of our courses?\n",
      "- Confirm your registered courses?\n"
     ]
    },
    {
     "name": "stdin",
     "output_type": "stream",
     "text": [
      "You 🫥:  registration\n"
     ]
    },
    {
     "name": "stdout",
     "output_type": "stream",
     "text": [
      "Bot 🤖: Kindly request for the course you want to register in this format:\n",
      "(e.g.) I am Promise, Date of birth, B-Tech Computer Science.\n",
      "phone number: 07063083925.\n",
      "I want to learn Excel.\n"
     ]
    },
    {
     "name": "stdin",
     "output_type": "stream",
     "text": [
      "You 🫥:  I am Promise, January 8th 1995, B-Tech Computer Science. phone number: 07063083925. I want to learn Excel. promiseibediogwu@gmail.com\n"
     ]
    },
    {
     "name": "stdout",
     "output_type": "stream",
     "text": [
      "Bot 🤖: Thank you! Here's your profile:\n",
      "Name: Promise\n",
      "DOB: None\n",
      "Qualification: Computer Science\n",
      "Phone: 07063083925\n",
      "Email: promiseibediogwu@gmail.com\n",
      "Course: ['Excel']\n",
      "Bot 🤖: Your registration is complete! ✅\n",
      "Bot 🤖: What else do you want to do, else kindly quite, exit or say you are done!!!\n"
     ]
    },
    {
     "ename": "KeyboardInterrupt",
     "evalue": "Interrupted by user",
     "output_type": "error",
     "traceback": [
      "\u001b[1;31m---------------------------------------------------------------------------\u001b[0m",
      "\u001b[1;31mKeyboardInterrupt\u001b[0m                         Traceback (most recent call last)",
      "Cell \u001b[1;32mIn[121], line 58\u001b[0m\n\u001b[0;32m     56\u001b[0m         \u001b[38;5;28;01mexcept\u001b[39;00m \u001b[38;5;167;01mException\u001b[39;00m \u001b[38;5;28;01mas\u001b[39;00m e:\n\u001b[0;32m     57\u001b[0m             \u001b[38;5;28mprint\u001b[39m(\u001b[38;5;124m\"\u001b[39m\u001b[38;5;124mBot 🤖: Sorry, I couldn\u001b[39m\u001b[38;5;124m'\u001b[39m\u001b[38;5;124mt process that. Please try again.\u001b[39m\u001b[38;5;124m\"\u001b[39m)\n\u001b[1;32m---> 58\u001b[0m Poshbot()\n",
      "Cell \u001b[1;32mIn[121], line 9\u001b[0m, in \u001b[0;36mPoshbot\u001b[1;34m()\u001b[0m\n\u001b[0;32m      6\u001b[0m predicted_intent \u001b[38;5;241m=\u001b[39m \u001b[38;5;28;01mNone\u001b[39;00m\n\u001b[0;32m      8\u001b[0m \u001b[38;5;28;01mwhile\u001b[39;00m \u001b[38;5;28;01mTrue\u001b[39;00m:\n\u001b[1;32m----> 9\u001b[0m     user_input \u001b[38;5;241m=\u001b[39m \u001b[38;5;28minput\u001b[39m(\u001b[38;5;124m\"\u001b[39m\u001b[38;5;124mYou 🫥: \u001b[39m\u001b[38;5;124m\"\u001b[39m)\u001b[38;5;241m.\u001b[39mstrip()\n\u001b[0;32m     11\u001b[0m     \u001b[38;5;28;01mif\u001b[39;00m user_input\u001b[38;5;241m.\u001b[39mlower() \u001b[38;5;129;01min\u001b[39;00m [\u001b[38;5;124m\"\u001b[39m\u001b[38;5;124mi am done\u001b[39m\u001b[38;5;124m\"\u001b[39m, \u001b[38;5;124m\"\u001b[39m\u001b[38;5;124mexit\u001b[39m\u001b[38;5;124m\"\u001b[39m, \u001b[38;5;124m\"\u001b[39m\u001b[38;5;124mquit\u001b[39m\u001b[38;5;124m\"\u001b[39m]:\n\u001b[0;32m     12\u001b[0m         \u001b[38;5;28mprint\u001b[39m(\u001b[38;5;124m\"\u001b[39m\u001b[38;5;124mBot 🤖: Thanks for choosing Poshem Technologies Institution. This is your course ID. You\u001b[39m\u001b[38;5;124m'\u001b[39m\u001b[38;5;124mll get a mail from us shortly.\u001b[39m\u001b[38;5;124m\"\u001b[39m)\n",
      "File \u001b[1;32m~\\AppData\\Roaming\\Python\\Python312\\site-packages\\ipykernel\\kernelbase.py:1270\u001b[0m, in \u001b[0;36mKernel.raw_input\u001b[1;34m(self, prompt)\u001b[0m\n\u001b[0;32m   1268\u001b[0m     msg \u001b[38;5;241m=\u001b[39m \u001b[38;5;124m\"\u001b[39m\u001b[38;5;124mraw_input was called, but this frontend does not support input requests.\u001b[39m\u001b[38;5;124m\"\u001b[39m\n\u001b[0;32m   1269\u001b[0m     \u001b[38;5;28;01mraise\u001b[39;00m StdinNotImplementedError(msg)\n\u001b[1;32m-> 1270\u001b[0m \u001b[38;5;28;01mreturn\u001b[39;00m \u001b[38;5;28mself\u001b[39m\u001b[38;5;241m.\u001b[39m_input_request(\n\u001b[0;32m   1271\u001b[0m     \u001b[38;5;28mstr\u001b[39m(prompt),\n\u001b[0;32m   1272\u001b[0m     \u001b[38;5;28mself\u001b[39m\u001b[38;5;241m.\u001b[39m_parent_ident[\u001b[38;5;124m\"\u001b[39m\u001b[38;5;124mshell\u001b[39m\u001b[38;5;124m\"\u001b[39m],\n\u001b[0;32m   1273\u001b[0m     \u001b[38;5;28mself\u001b[39m\u001b[38;5;241m.\u001b[39mget_parent(\u001b[38;5;124m\"\u001b[39m\u001b[38;5;124mshell\u001b[39m\u001b[38;5;124m\"\u001b[39m),\n\u001b[0;32m   1274\u001b[0m     password\u001b[38;5;241m=\u001b[39m\u001b[38;5;28;01mFalse\u001b[39;00m,\n\u001b[0;32m   1275\u001b[0m )\n",
      "File \u001b[1;32m~\\AppData\\Roaming\\Python\\Python312\\site-packages\\ipykernel\\kernelbase.py:1313\u001b[0m, in \u001b[0;36mKernel._input_request\u001b[1;34m(self, prompt, ident, parent, password)\u001b[0m\n\u001b[0;32m   1310\u001b[0m \u001b[38;5;28;01mexcept\u001b[39;00m \u001b[38;5;167;01mKeyboardInterrupt\u001b[39;00m:\n\u001b[0;32m   1311\u001b[0m     \u001b[38;5;66;03m# re-raise KeyboardInterrupt, to truncate traceback\u001b[39;00m\n\u001b[0;32m   1312\u001b[0m     msg \u001b[38;5;241m=\u001b[39m \u001b[38;5;124m\"\u001b[39m\u001b[38;5;124mInterrupted by user\u001b[39m\u001b[38;5;124m\"\u001b[39m\n\u001b[1;32m-> 1313\u001b[0m     \u001b[38;5;28;01mraise\u001b[39;00m \u001b[38;5;167;01mKeyboardInterrupt\u001b[39;00m(msg) \u001b[38;5;28;01mfrom\u001b[39;00m \u001b[38;5;28;01mNone\u001b[39;00m\n\u001b[0;32m   1314\u001b[0m \u001b[38;5;28;01mexcept\u001b[39;00m \u001b[38;5;167;01mException\u001b[39;00m:\n\u001b[0;32m   1315\u001b[0m     \u001b[38;5;28mself\u001b[39m\u001b[38;5;241m.\u001b[39mlog\u001b[38;5;241m.\u001b[39mwarning(\u001b[38;5;124m\"\u001b[39m\u001b[38;5;124mInvalid Message:\u001b[39m\u001b[38;5;124m\"\u001b[39m, exc_info\u001b[38;5;241m=\u001b[39m\u001b[38;5;28;01mTrue\u001b[39;00m)\n",
      "\u001b[1;31mKeyboardInterrupt\u001b[0m: Interrupted by user"
     ]
    }
   ],
   "source": [
    "def Poshbot():\n",
    "    print(\"Bot 🤖: Hello! Welcome to Poshem Technologies, a fair greeting will be okay for us to attend to you:\")\n",
    "\n",
    "    in_registration = False\n",
    "    completed_registration = False\n",
    "    predicted_intent = None\n",
    "\n",
    "    while True:\n",
    "        user_input = input(\"You 🫥: \").strip()\n",
    "\n",
    "        if user_input.lower() in [\"i am done\", \"exit\", \"quit\"]:\n",
    "            print(\"Bot 🤖: Thanks for choosing Poshem Technologies Institution. This is your course ID. You'll get a mail from us shortly.\")\n",
    "            break\n",
    "\n",
    "        try:\n",
    "            # Step 1: If user is in registration mode, extract profile\n",
    "            if in_registration and not completed_registration:\n",
    "                try:\n",
    "                    name, dob, qualification, phone_number, email, course = extract_profile(user_input)\n",
    "\n",
    "                    print(\"Bot 🤖: Thank you! Here's your profile:\")\n",
    "                    print(f\"Name: {name}\")\n",
    "                    print(f\"DOB: {dob}\")\n",
    "                    print(f\"Qualification: {qualification}\")\n",
    "                    print(f\"Phone: {phone_number}\")\n",
    "                    print(f\"Email: {email}\")\n",
    "                    print(f\"Course: {course}\")\n",
    "\n",
    "                    print(\"Bot 🤖: Your registration is complete! ✅\")\n",
    "\n",
    "                    print(\"Bot 🤖: What else do you want to do, else kindly quite, exit or say you are done!!!\")\n",
    "\n",
    "                    completed_registration = True\n",
    "                    in_registration = False  # Reset flag\n",
    "                    predicted_intent = None  # Clear intent\n",
    "\n",
    "                    continue  # Go back to next user input\n",
    "                except Exception as e:\n",
    "                    print(\"Bot 🤖: Sorry, I couldn't extract your enrollment details. Please try again.\")\n",
    "                    continue\n",
    "\n",
    "            # Step 2: Predict intent if not in registration\n",
    "            predicted_intent = user_input_to_model(user_input)\n",
    "            bot_response = response_function(predicted_intent)\n",
    "\n",
    "            print(f\"Bot 🤖: {bot_response}\")\n",
    "\n",
    "            # Step 3: If intent is enrollment, set the flag\n",
    "            if predicted_intent == 1:  # Or 'enrollment' depending on how your model works\n",
    "                in_registration = True\n",
    "                continue\n",
    "\n",
    "            # Step 4: Handle other general replies\n",
    "            log_interaction(user_input, predicted_intent, bot_response)\n",
    "\n",
    "        except Exception as e:\n",
    "            print(\"Bot 🤖: Sorry, I couldn't process that. Please try again.\")\n",
    "Poshbot()"
   ]
  },
  {
   "cell_type": "code",
   "execution_count": null,
   "id": "ae5b4c89-d297-402b-9c42-363d92966c59",
   "metadata": {},
   "outputs": [],
   "source": [
    "I am Promise, Date of birth, B-Tech Computer Science. phone number: 07063083925. I want to learn Excel. promiseibediogwu@gmail.com"
   ]
  },
  {
   "cell_type": "code",
   "execution_count": null,
   "id": "b47ce713-f38c-41ed-8ff5-1313ccd5b255",
   "metadata": {},
   "outputs": [],
   "source": [
    "#My name is Promise Ibediogwu, I was born on January 8th 1995, B-Tech Computer Science. This is my phone number: 07063083925. I want to learn Python for Data Analysis, my email is promiseibediogwu@gmail.com"
   ]
  },
  {
   "cell_type": "code",
   "execution_count": null,
   "id": "013908cb-891f-457d-aadd-ce6b6a37ea12",
   "metadata": {},
   "outputs": [],
   "source": [
    "### storing the user input using NLP entity recognition extraction"
   ]
  },
  {
   "cell_type": "code",
   "execution_count": null,
   "id": "b7775c60-a675-467b-befb-b57e9c7dbfa7",
   "metadata": {},
   "outputs": [],
   "source": [
    "nlp"
   ]
  },
  {
   "cell_type": "code",
   "execution_count": 12,
   "id": "d7e6a1d4-41f6-4816-941b-736876c3e54d",
   "metadata": {},
   "outputs": [],
   "source": [
    "### implementing conversation track, after the user has entered his or her name"
   ]
  },
  {
   "cell_type": "code",
   "execution_count": null,
   "id": "a95663f0-c575-481e-8a53-baf0e2e675b1",
   "metadata": {},
   "outputs": [],
   "source": []
  },
  {
   "cell_type": "code",
   "execution_count": null,
   "id": "69c966b8-c678-4332-9a29-8c03755d6be9",
   "metadata": {},
   "outputs": [],
   "source": []
  },
  {
   "cell_type": "code",
   "execution_count": null,
   "id": "19be2bd1-fb2c-4a81-ba58-c945551e03e0",
   "metadata": {},
   "outputs": [],
   "source": []
  },
  {
   "cell_type": "code",
   "execution_count": null,
   "id": "2738ad74-b669-4b9a-8c5e-27e8709ecad5",
   "metadata": {},
   "outputs": [],
   "source": []
  },
  {
   "cell_type": "code",
   "execution_count": 65,
   "id": "015675e6-2581-46d1-885b-e3d767323c55",
   "metadata": {},
   "outputs": [],
   "source": [
    "# Function to extract profile data from user input\n",
    "def extract_profile(user_input):\n",
    "    doc = nlp(user_input)\n",
    "\n",
    "    # Apply matcher\n",
    "    matches = matcher(doc)\n",
    "\n",
    "    # Initialize extracted data\n",
    "    name, dob, qualification, phone_number, email, course = None, None, None, None, None, []\n",
    "\n",
    "    # Process matches\n",
    "    for match_id, start, end in matches:\n",
    "        span = doc[start:end]\n",
    "        label = nlp.vocab.strings[match_id]\n",
    "\n",
    "        if label == \"NAME\":\n",
    "            name = span.text.replace(\"My name is\", \"\").strip()\n",
    "        elif label == \"DOB\":\n",
    "            dob = span.text.replace(\"born on\", \"\").strip()\n",
    "        elif label == \"QUALIFICATION\":\n",
    "            qualification = span.text\n",
    "        elif label == \"PHONE\":\n",
    "            phone_number = span[-1].text\n",
    "\n",
    "    # Extract email & course via ruler\n",
    "    for ent in doc.ents:\n",
    "        if ent.label_ == \"EMAIL\":\n",
    "            email = ent.text\n",
    "        elif ent.label_ == \"COURSE\":\n",
    "            course.append(ent.text)\n",
    "\n",
    "    return name, dob, qualification, phone_number, email, course\n"
   ]
  },
  {
   "cell_type": "code",
   "execution_count": null,
   "id": "50ff4adc-9649-481a-87df-8ed64f55cb53",
   "metadata": {},
   "outputs": [],
   "source": []
  },
  {
   "cell_type": "code",
   "execution_count": 66,
   "id": "823b6b94-ef6a-41c4-a138-98c37829141f",
   "metadata": {},
   "outputs": [
    {
     "data": {
      "text/plain": [
       "('Promise Ibediogwu',\n",
       " 'January 8th 1995',\n",
       " 'Data Analysis',\n",
       " '07063083925',\n",
       " 'promiseibediogwu@gmail.com',\n",
       " ['Python for Data Analysis'])"
      ]
     },
     "execution_count": 66,
     "metadata": {},
     "output_type": "execute_result"
    }
   ],
   "source": [
    "extract_profile('My name is Promise Ibediogwu, I was born on January 8th 1995, B-Tech Computer Science. This is my phone number: 07063083925. I want to learn Python for Data Analysis, my email is promiseibediogwu@gmail.com')"
   ]
  },
  {
   "cell_type": "code",
   "execution_count": null,
   "id": "27da4aca-1080-4feb-8590-d1c5e1d084f5",
   "metadata": {},
   "outputs": [],
   "source": []
  },
  {
   "cell_type": "code",
   "execution_count": null,
   "id": "4a278d66-eb34-4daf-a51d-1457854aac90",
   "metadata": {},
   "outputs": [],
   "source": []
  },
  {
   "cell_type": "code",
   "execution_count": null,
   "id": "399217c6-6c3e-4065-ba0c-e1cd136c6dbd",
   "metadata": {},
   "outputs": [],
   "source": []
  },
  {
   "cell_type": "markdown",
   "id": "2e5aab21-395d-4cb1-a150-34162c4657ef",
   "metadata": {},
   "source": [
    "## Working code"
   ]
  },
  {
   "cell_type": "code",
   "execution_count": 2,
   "id": "cc262408-a9e3-4ebc-8e69-984e80d810ff",
   "metadata": {},
   "outputs": [],
   "source": [
    "# -------------------------------------------------------- LIBRARIES -----------------------------------------------\n",
    "import dateparser\n",
    "import pickle\n",
    "import spacy\n",
    "import numpy as np\n",
    "import logging\n",
    "from datetime import datetime\n",
    "import json\n",
    "from spacy.pipeline import EntityRuler\n",
    "import re\n",
    "from spacy.matcher import Matcher\n",
    "\n",
    "# Load the saved pipeline\n",
    "with open(\"intent_classifier.pkl\", \"rb\") as f:\n",
    "    loaded_pipeline = pickle.load(f)\n",
    "\n",
    "# Set up logging to file\n",
    "logging.basicConfig(\n",
    "    filename='chat_log.json',\n",
    "    level=logging.INFO,\n",
    "    format='%(message)s'\n",
    ")\n"
   ]
  },
  {
   "cell_type": "code",
   "execution_count": 3,
   "id": "e181b26e-6076-432b-8028-61e46b12744a",
   "metadata": {},
   "outputs": [],
   "source": [
    "# -------------------------------------------------------- DATA ----------------------------------------------------\n",
    "# Intent mapping\n",
    "target_response = {\n",
    "    0: 'greetings',\n",
    "    1: 'enrollment',\n",
    "    2: 'pricing',\n",
    "    3: 'tracking',\n",
    "    4: 'fallback'\n",
    "}\n",
    "\n",
    "# Response templates\n",
    "fallback_responses = [\n",
    "    \"Sorry, I didn’t quite understand that. Can you rephrase, read my previous prompt and respond accordingly?\",\n",
    "    \"Hmm, I'm not sure what you mean. Try asking about enrollment or pricing, read my previous prompt and respond accordingly.\",\n",
    "    \"Let’s try that again. Ask about courses, prices, or tracking progress, read my previous prompt and respond accordingly\"\n",
    "]\n",
    "\n",
    "response = {\n",
    "    'greetings': [\n",
    "        \"Nice, you are very much welcome to Poshem! What do you want to do?\\n\"\n",
    "        \"- Do want to enroll/register for a course?\\n- Check the price of our courses?\\n- Confirm your registered courses?\"\n",
    "    ],\n",
    "    'enrollment': (\n",
    "        \"Kindly request for the course you want to register in this format:\\n\"\n",
    "        \"(e.g.) I am Promise, born on Date of birth, B-Tech Computer Science.\\n\"\n",
    "        \"phone number: 07063083925.\\n\"\n",
    "        \"email address: promise@x.com\\n\"\n",
    "        \"I want to learn Excel.\"\n",
    "    ),\n",
    "    'pricing': \"Our pricing varies by course. Here is the breakdown...\",\n",
    "    'tracking': \"To track your course, kindly let me know your ID.\",\n",
    "    'fallback': fallback_responses\n",
    "}"
   ]
  },
  {
   "cell_type": "code",
   "execution_count": 4,
   "id": "8dcd6f5e-e852-4951-8c51-b07a8f6d9a55",
   "metadata": {},
   "outputs": [],
   "source": [
    "#---------------------------------------------------------USER PROFILE EXTRACTOR-----------------------------------------\n",
    "\n",
    "# Load spaCy model\n",
    "nlp = spacy.load('en_core_web_lg')\n",
    "\n",
    "# Initialize EntityRuler\n",
    "ruler = EntityRuler(nlp, overwrite_ents=True)\n",
    " \n",
    "# Remove default NER to use custom recognition\n",
    "if \"ner\" in nlp.pipe_names:\n",
    "    nlp.remove_pipe(\"ner\")\n",
    "\n",
    "# Add EntityRuler for course and email\n",
    "ruler = nlp.add_pipe(\"entity_ruler\", first=True)\n",
    "\n",
    "# Define custom course list\n",
    "courses = [\n",
    "    \"excel\", \"powerbi\", \"sql\", \"postgresql\", \"python for beginners\",\n",
    "    \"advance python for data analysis\", \"python for data analysis\",\n",
    "    \"data science\", \"machine learning\",\n",
    "    \"database administrator\", \"azure devops\", \"aws devops\"\n",
    "]\n",
    "\n",
    "course_patterns = [{\"label\": \"COURSE\", \"pattern\": course} for course in courses]\n",
    "email_patterns = [{\"label\": \"EMAIL\", \"pattern\": [{\"LIKE_EMAIL\": True}]}]\n",
    "ruler.add_patterns(course_patterns + email_patterns)\n",
    "\n",
    "# Add Matcher for name, DOB, qualification, and phone\n",
    "matcher = Matcher(nlp.vocab)\n",
    "\n",
    "matcher.add(\"NAME\", [[\n",
    "    {\"LOWER\": \"i\"},\n",
    "    {\"LOWER\": \"am\"},\n",
    "    {\"IS_TITLE\": True, \"OP\": \"+\"}\n",
    "]])\n",
    "\n",
    "matcher.add(\"DOB\", [[\n",
    "    {\"LOWER\": \"born\"},\n",
    "    {\"LOWER\": \"on\"},\n",
    "    {\"IS_TITLE\": True, \"OP\": \"+\"},\n",
    "    {\"TEXT\": {\"REGEX\": r\"^\\d{1,2}(st|nd|rd|th)?$\"}, \"OP\": \"?\"},\n",
    "    {\"IS_DIGIT\": True, \"OP\": \"?\"}\n",
    "]])\n",
    "\n",
    "matcher.add(\"PHONE\", [[\n",
    "    {\"LOWER\": \"phone\"},\n",
    "    {\"LOWER\": \"number\"},\n",
    "    {\"IS_PUNCT\": True, \"OP\": \"?\"},\n",
    "    {\"TEXT\": {\"REGEX\": r\"^\\d{11}$\"}}\n",
    "]])\n",
    "\n",
    "matcher.add(\"QUALIFICATION\", [[\n",
    "    {\"TEXT\": {\"REGEX\": r\"^[A-Z][-.A-Za-z]+$\"}},\n",
    "    {\"IS_TITLE\": True, \"OP\": \"+\"}\n",
    "]])\n"
   ]
  },
  {
   "cell_type": "code",
   "execution_count": 5,
   "id": "fef0bd50-3f7b-40e6-8bf7-d10fa8f9193e",
   "metadata": {},
   "outputs": [],
   "source": [
    "#-------------------------------------------------------------------BOT FUNCTIONS-----------------------------------------\n",
    "\n",
    "# Function to simulate intent prediction\n",
    "def user_input_to_model(user_input):\n",
    "    vector = nlp(user_input).vector\n",
    "    predicted_intent = loaded_pipeline.predict([vector])[0]  # Extract single prediction\n",
    "    return predicted_intent\n",
    "\n",
    "# Function to generate bot response\n",
    "def response_function(user_intent):\n",
    "    intent_label = target_response.get(user_intent, 'fallback')\n",
    "\n",
    "    if intent_label == 'fallback':\n",
    "        return np.random.choice(response['fallback'])\n",
    "\n",
    "    reply = response.get(intent_label)\n",
    "    return reply[0] if isinstance(reply, list) else reply\n",
    "\n",
    "# Chat history logging function\n",
    "def log_interaction(user_input, predicted_intent, bot_response):\n",
    "    log_entry = {\n",
    "        \"timestamp\": datetime.now().isoformat(),\n",
    "        \"user_input\": user_input,\n",
    "        \"predicted_intent\": target_response.get(predicted_intent, 'fallback'),\n",
    "        \"bot_response\": bot_response\n",
    "    }\n",
    "    logging.info(json.dumps(log_entry))\n"
   ]
  },
  {
   "cell_type": "code",
   "execution_count": 6,
   "id": "92d259ed-a45d-4882-b9b3-73cd3501b5af",
   "metadata": {},
   "outputs": [],
   "source": [
    "#-----------------------------------------------------------------USER EXTRACTION FUNCTION-------------------------------------\n",
    "\n",
    "# Function to extract profile data from user input\n",
    "def extract_profile(user_input):\n",
    "    doc = nlp(user_input)\n",
    "\n",
    "    # Apply matcher\n",
    "    matches = matcher(doc)\n",
    "\n",
    "    # Initialize extracted data\n",
    "    name, dob, qualification, phone_number, email, course = None, None, None, None, None, []\n",
    "\n",
    "    # Process matches\n",
    "    for match_id, start, end in matches:\n",
    "        span = doc[start:end]\n",
    "        label = nlp.vocab.strings[match_id]\n",
    "\n",
    "        if label == \"NAME\":\n",
    "            name = span.text.replace(\"I am\", \"\").strip()\n",
    "        elif label == \"DOB\":\n",
    "            dob = span.text.replace(\"born on\", \"\").strip()\n",
    "        elif label == \"QUALIFICATION\":\n",
    "            qualification = span.text\n",
    "        elif label == \"PHONE\":\n",
    "            phone_number = span[-1].text\n",
    "\n",
    "    # Extract email & course via ruler\n",
    "    for ent in doc.ents:\n",
    "        if ent.label_ == \"EMAIL\":\n",
    "            email = ent.text\n",
    "        elif ent.label_ == \"COURSE\":\n",
    "            course.append(ent.text)\n",
    "\n",
    "    return name, dob, qualification, phone_number, email, course\n"
   ]
  },
  {
   "cell_type": "markdown",
   "id": "36fc2390-bdbe-4051-a95e-6c6a9a57717e",
   "metadata": {},
   "source": [
    "### the good code"
   ]
  },
  {
   "cell_type": "code",
   "execution_count": 7,
   "id": "65ee5aae-c748-4b8f-9f99-29624819326f",
   "metadata": {},
   "outputs": [
    {
     "name": "stdout",
     "output_type": "stream",
     "text": [
      "Bot 🤖: Hello! Welcome to Poshem Technologies, a fair greeting will be okay for us to attend to you:\n"
     ]
    },
    {
     "name": "stdin",
     "output_type": "stream",
     "text": [
      "You 🫥:  hi\n"
     ]
    },
    {
     "name": "stdout",
     "output_type": "stream",
     "text": [
      "Bot 🤖: Nice, you are very much welcome to Poshem! What do you want to do?\n",
      "- Do want to enroll/register for a course?\n",
      "- Check the price of our courses?\n",
      "- Confirm your registered courses?\n"
     ]
    },
    {
     "name": "stdin",
     "output_type": "stream",
     "text": [
      "You 🫥:  i want to enroll for a course\n"
     ]
    },
    {
     "name": "stdout",
     "output_type": "stream",
     "text": [
      "Bot 🤖: Kindly request for the course you want to register in this format:\n",
      "(e.g.) I am Promise, born on Date of birth, B-Tech Computer Science.\n",
      "phone number: 07063083925.\n",
      "email address: promise@x.com\n",
      "I want to learn Excel.\n"
     ]
    },
    {
     "name": "stdin",
     "output_type": "stream",
     "text": [
      "You 🫥:  I am Promise Ibediogwu, born on January 8th 1995, B-Tech Computer Science. phone number: 07063083925. email address: promiseibediogwu1@gmail.com, I want to learn python for beginners\n"
     ]
    },
    {
     "name": "stdout",
     "output_type": "stream",
     "text": [
      "Bot 🤖: Thank you! Here's your profile:\n",
      "Name: Promise Ibediogwu\n",
      "DOB: January 8th 1995\n",
      "Qualification: Computer Science\n",
      "Phone: 07063083925\n",
      "Email: promiseibediogwu1@gmail.com\n",
      "Course: ['python for beginners']\n",
      "Bot 🤖: Your registration is complete! ✅\n",
      "Bot 🤖: What else do you want to do, else kindly quite, exit or say you are done!!!\n"
     ]
    },
    {
     "ename": "KeyboardInterrupt",
     "evalue": "Interrupted by user",
     "output_type": "error",
     "traceback": [
      "\u001b[1;31m---------------------------------------------------------------------------\u001b[0m",
      "\u001b[1;31mKeyboardInterrupt\u001b[0m                         Traceback (most recent call last)",
      "Cell \u001b[1;32mIn[7], line 60\u001b[0m\n\u001b[0;32m     57\u001b[0m         \u001b[38;5;28;01mexcept\u001b[39;00m \u001b[38;5;167;01mException\u001b[39;00m \u001b[38;5;28;01mas\u001b[39;00m e:\n\u001b[0;32m     58\u001b[0m             \u001b[38;5;28mprint\u001b[39m(\u001b[38;5;124m\"\u001b[39m\u001b[38;5;124mBot 🤖: Sorry, I couldn\u001b[39m\u001b[38;5;124m'\u001b[39m\u001b[38;5;124mt process that. Please try again.\u001b[39m\u001b[38;5;124m\"\u001b[39m)\n\u001b[1;32m---> 60\u001b[0m Poshbot()\n",
      "Cell \u001b[1;32mIn[7], line 10\u001b[0m, in \u001b[0;36mPoshbot\u001b[1;34m()\u001b[0m\n\u001b[0;32m      7\u001b[0m predicted_intent \u001b[38;5;241m=\u001b[39m \u001b[38;5;28;01mNone\u001b[39;00m\n\u001b[0;32m      9\u001b[0m \u001b[38;5;28;01mwhile\u001b[39;00m \u001b[38;5;28;01mTrue\u001b[39;00m:\n\u001b[1;32m---> 10\u001b[0m     user_input \u001b[38;5;241m=\u001b[39m \u001b[38;5;28minput\u001b[39m(\u001b[38;5;124m\"\u001b[39m\u001b[38;5;124mYou 🫥: \u001b[39m\u001b[38;5;124m\"\u001b[39m)\u001b[38;5;241m.\u001b[39mstrip()\n\u001b[0;32m     12\u001b[0m     \u001b[38;5;28;01mif\u001b[39;00m user_input\u001b[38;5;241m.\u001b[39mlower() \u001b[38;5;129;01min\u001b[39;00m [\u001b[38;5;124m\"\u001b[39m\u001b[38;5;124mi am done\u001b[39m\u001b[38;5;124m\"\u001b[39m, \u001b[38;5;124m\"\u001b[39m\u001b[38;5;124mexit\u001b[39m\u001b[38;5;124m\"\u001b[39m, \u001b[38;5;124m\"\u001b[39m\u001b[38;5;124mquit\u001b[39m\u001b[38;5;124m\"\u001b[39m]:\n\u001b[0;32m     13\u001b[0m         \u001b[38;5;28mprint\u001b[39m(\u001b[38;5;124m\"\u001b[39m\u001b[38;5;124mBot 🤖: Thanks for choosing Poshem Technologies Institution. This is your course ID. You\u001b[39m\u001b[38;5;124m'\u001b[39m\u001b[38;5;124mll get a mail from us shortly.\u001b[39m\u001b[38;5;124m\"\u001b[39m)\n",
      "File \u001b[1;32m~\\AppData\\Roaming\\Python\\Python312\\site-packages\\ipykernel\\kernelbase.py:1270\u001b[0m, in \u001b[0;36mKernel.raw_input\u001b[1;34m(self, prompt)\u001b[0m\n\u001b[0;32m   1268\u001b[0m     msg \u001b[38;5;241m=\u001b[39m \u001b[38;5;124m\"\u001b[39m\u001b[38;5;124mraw_input was called, but this frontend does not support input requests.\u001b[39m\u001b[38;5;124m\"\u001b[39m\n\u001b[0;32m   1269\u001b[0m     \u001b[38;5;28;01mraise\u001b[39;00m StdinNotImplementedError(msg)\n\u001b[1;32m-> 1270\u001b[0m \u001b[38;5;28;01mreturn\u001b[39;00m \u001b[38;5;28mself\u001b[39m\u001b[38;5;241m.\u001b[39m_input_request(\n\u001b[0;32m   1271\u001b[0m     \u001b[38;5;28mstr\u001b[39m(prompt),\n\u001b[0;32m   1272\u001b[0m     \u001b[38;5;28mself\u001b[39m\u001b[38;5;241m.\u001b[39m_parent_ident[\u001b[38;5;124m\"\u001b[39m\u001b[38;5;124mshell\u001b[39m\u001b[38;5;124m\"\u001b[39m],\n\u001b[0;32m   1273\u001b[0m     \u001b[38;5;28mself\u001b[39m\u001b[38;5;241m.\u001b[39mget_parent(\u001b[38;5;124m\"\u001b[39m\u001b[38;5;124mshell\u001b[39m\u001b[38;5;124m\"\u001b[39m),\n\u001b[0;32m   1274\u001b[0m     password\u001b[38;5;241m=\u001b[39m\u001b[38;5;28;01mFalse\u001b[39;00m,\n\u001b[0;32m   1275\u001b[0m )\n",
      "File \u001b[1;32m~\\AppData\\Roaming\\Python\\Python312\\site-packages\\ipykernel\\kernelbase.py:1313\u001b[0m, in \u001b[0;36mKernel._input_request\u001b[1;34m(self, prompt, ident, parent, password)\u001b[0m\n\u001b[0;32m   1310\u001b[0m \u001b[38;5;28;01mexcept\u001b[39;00m \u001b[38;5;167;01mKeyboardInterrupt\u001b[39;00m:\n\u001b[0;32m   1311\u001b[0m     \u001b[38;5;66;03m# re-raise KeyboardInterrupt, to truncate traceback\u001b[39;00m\n\u001b[0;32m   1312\u001b[0m     msg \u001b[38;5;241m=\u001b[39m \u001b[38;5;124m\"\u001b[39m\u001b[38;5;124mInterrupted by user\u001b[39m\u001b[38;5;124m\"\u001b[39m\n\u001b[1;32m-> 1313\u001b[0m     \u001b[38;5;28;01mraise\u001b[39;00m \u001b[38;5;167;01mKeyboardInterrupt\u001b[39;00m(msg) \u001b[38;5;28;01mfrom\u001b[39;00m \u001b[38;5;28;01mNone\u001b[39;00m\n\u001b[0;32m   1314\u001b[0m \u001b[38;5;28;01mexcept\u001b[39;00m \u001b[38;5;167;01mException\u001b[39;00m:\n\u001b[0;32m   1315\u001b[0m     \u001b[38;5;28mself\u001b[39m\u001b[38;5;241m.\u001b[39mlog\u001b[38;5;241m.\u001b[39mwarning(\u001b[38;5;124m\"\u001b[39m\u001b[38;5;124mInvalid Message:\u001b[39m\u001b[38;5;124m\"\u001b[39m, exc_info\u001b[38;5;241m=\u001b[39m\u001b[38;5;28;01mTrue\u001b[39;00m)\n",
      "\u001b[1;31mKeyboardInterrupt\u001b[0m: Interrupted by user"
     ]
    }
   ],
   "source": [
    "#--------------------------------------------------------POSHBOT------------------------------------------------\n",
    "def Poshbot():\n",
    "    print(\"Bot 🤖: Hello! Welcome to Poshem Technologies, a fair greeting will be okay for us to attend to you:\")\n",
    "\n",
    "    in_registration = False\n",
    "    completed_registration = False\n",
    "    predicted_intent = None\n",
    "\n",
    "    while True:\n",
    "        user_input = input(\"You 🫥: \").strip()\n",
    "\n",
    "        if user_input.lower() in [\"i am done\", \"exit\", \"quit\"]:\n",
    "            print(\"Bot 🤖: Thanks for choosing Poshem Technologies Institution. This is your course ID. You'll get a mail from us shortly.\")\n",
    "            break\n",
    "\n",
    "        try:\n",
    "            # Step 1: If user is in registration mode, extract profile\n",
    "            if in_registration and not completed_registration:\n",
    "                try:\n",
    "                    name, dob, qualification, phone_number, email, course = extract_profile(user_input)\n",
    "\n",
    "                    print(\"Bot 🤖: Thank you! Here's your profile:\")\n",
    "                    print(f\"Name: {name}\")\n",
    "                    print(f\"DOB: {dob}\")\n",
    "                    print(f\"Qualification: {qualification}\")\n",
    "                    print(f\"Phone: {phone_number}\")\n",
    "                    print(f\"Email: {email}\")\n",
    "                    print(f\"Course: {course}\")\n",
    "\n",
    "                    print(\"Bot 🤖: Your registration is complete! ✅\")\n",
    "\n",
    "                    print(\"Bot 🤖: What else do you want to do, else kindly quite, exit or say you are done!!!\")\n",
    "\n",
    "                    completed_registration = True\n",
    "                    in_registration = False  # Reset flag\n",
    "                    predicted_intent = None  # Clear intent\n",
    "\n",
    "                    continue  # Go back to next user input\n",
    "                except Exception as e:\n",
    "                    print(\"Bot 🤖: Sorry, I couldn't extract your enrollment details. Please try again.\")\n",
    "                    continue\n",
    "\n",
    "            # Step 2: Predict intent if not in registration\n",
    "            predicted_intent = user_input_to_model(user_input)\n",
    "            bot_response = response_function(predicted_intent)\n",
    "\n",
    "            print(f\"Bot 🤖: {bot_response}\")\n",
    "\n",
    "            # Step 3: If intent is enrollment, set the flag\n",
    "            if predicted_intent == 1:  # Or 'enrollment' depending on how your model works\n",
    "                in_registration = True\n",
    "                continue\n",
    "\n",
    "            # Step 4: Handle other general replies\n",
    "            log_interaction(user_input, predicted_intent, bot_response)\n",
    "\n",
    "        except Exception as e:\n",
    "            print(\"Bot 🤖: Sorry, I couldn't process that. Please try again.\")\n",
    "\n",
    "Poshbot()"
   ]
  },
  {
   "cell_type": "code",
   "execution_count": null,
   "id": "edb13ead-2167-447a-9845-84e89fba2b7c",
   "metadata": {},
   "outputs": [],
   "source": [
    "I am Promise Ibediogwu, born on January 8th 1995, B-Tech Computer Science. phone number: 07063083925. email address: promiseibediogwu1@gmail.com, I want to learn python for beginners"
   ]
  },
  {
   "cell_type": "code",
   "execution_count": null,
   "id": "4dfa5ace-ee34-46a3-a6cc-6fdc542287b0",
   "metadata": {},
   "outputs": [],
   "source": [
    "# Call the function to send the user and order data to the backend\n",
    "send_user_data_to_db(name, dob, qualification, phone_number, email, course_ordered)\n"
   ]
  },
  {
   "cell_type": "code",
   "execution_count": 2,
   "id": "cdf32227-4721-4725-9166-7b7c4dcbc277",
   "metadata": {
    "scrolled": true
   },
   "outputs": [
    {
     "name": "stdout",
     "output_type": "stream",
     "text": [
      "Collecting dateparser\n",
      "  Downloading dateparser-1.2.1-py3-none-any.whl.metadata (29 kB)\n",
      "Requirement already satisfied: python-dateutil>=2.7.0 in c:\\users\\dell\\anaconda3\\lib\\site-packages (from dateparser) (2.9.0.post0)\n",
      "Collecting pytz>=2024.2 (from dateparser)\n",
      "  Using cached pytz-2025.2-py2.py3-none-any.whl.metadata (22 kB)\n",
      "Requirement already satisfied: regex!=2019.02.19,!=2021.8.27,>=2015.06.24 in c:\\users\\dell\\anaconda3\\lib\\site-packages (from dateparser) (2024.9.11)\n",
      "Collecting tzlocal>=0.2 (from dateparser)\n",
      "  Downloading tzlocal-5.3.1-py3-none-any.whl.metadata (7.6 kB)\n",
      "Requirement already satisfied: six>=1.5 in c:\\users\\dell\\anaconda3\\lib\\site-packages (from python-dateutil>=2.7.0->dateparser) (1.16.0)\n",
      "Requirement already satisfied: tzdata in c:\\users\\dell\\anaconda3\\lib\\site-packages (from tzlocal>=0.2->dateparser) (2023.3)\n",
      "Downloading dateparser-1.2.1-py3-none-any.whl (295 kB)\n",
      "Using cached pytz-2025.2-py2.py3-none-any.whl (509 kB)\n",
      "Downloading tzlocal-5.3.1-py3-none-any.whl (18 kB)\n",
      "Installing collected packages: pytz, tzlocal, dateparser\n",
      "  Attempting uninstall: pytz\n",
      "    Found existing installation: pytz 2024.1\n",
      "    Uninstalling pytz-2024.1:\n",
      "      Successfully uninstalled pytz-2024.1\n",
      "Successfully installed dateparser-1.2.1 pytz-2025.2 tzlocal-5.3.1\n",
      "Note: you may need to restart the kernel to use updated packages.\n"
     ]
    }
   ],
   "source": [
    "pip install dateparser"
   ]
  },
  {
   "cell_type": "code",
   "execution_count": 7,
   "id": "32f5cc5a-0131-44cd-904c-ad95b109c442",
   "metadata": {},
   "outputs": [
    {
     "name": "stdout",
     "output_type": "stream",
     "text": [
      "Bot 🤖: Hello! Welcome to Poshem Technologies. A fair greeting will be okay for us to attend to you:\n"
     ]
    },
    {
     "name": "stdin",
     "output_type": "stream",
     "text": [
      "You 🫥:  hi\n"
     ]
    },
    {
     "name": "stdout",
     "output_type": "stream",
     "text": [
      "Bot 🤖: Nice, you are very much welcome to Poshem! What do you want to do?\n",
      "- Do want to enroll/register for a course?\n",
      "- Check the price of our courses?\n",
      "- Confirm your registered courses?\n"
     ]
    },
    {
     "name": "stdin",
     "output_type": "stream",
     "text": [
      "You 🫥:  enrollmen\n"
     ]
    },
    {
     "name": "stdout",
     "output_type": "stream",
     "text": [
      "Bot 🤖: Nice, you are very much welcome to Poshem! What do you want to do?\n",
      "- Do want to enroll/register for a course?\n",
      "- Check the price of our courses?\n",
      "- Confirm your registered courses?\n"
     ]
    },
    {
     "name": "stdin",
     "output_type": "stream",
     "text": [
      "You 🫥:  I am Promise Ibediogwu, born on January 8th 1995, B-Tech Computer Science. phone number: 07063083925. email address: promiseibediogwu1@gmail.com, I want to learn python for beginners\n"
     ]
    },
    {
     "name": "stdout",
     "output_type": "stream",
     "text": [
      "Bot 🤖: Nice, you are very much welcome to Poshem! What do you want to do?\n",
      "- Do want to enroll/register for a course?\n",
      "- Check the price of our courses?\n",
      "- Confirm your registered courses?\n"
     ]
    },
    {
     "ename": "KeyboardInterrupt",
     "evalue": "Interrupted by user",
     "output_type": "error",
     "traceback": [
      "\u001b[1;31m---------------------------------------------------------------------------\u001b[0m",
      "\u001b[1;31mKeyboardInterrupt\u001b[0m                         Traceback (most recent call last)",
      "Cell \u001b[1;32mIn[7], line 58\u001b[0m\n\u001b[0;32m     55\u001b[0m         \u001b[38;5;28;01mexcept\u001b[39;00m \u001b[38;5;167;01mException\u001b[39;00m \u001b[38;5;28;01mas\u001b[39;00m e:\n\u001b[0;32m     56\u001b[0m             \u001b[38;5;28mprint\u001b[39m(\u001b[38;5;124m\"\u001b[39m\u001b[38;5;124mBot 🤖: Sorry, I couldn\u001b[39m\u001b[38;5;124m'\u001b[39m\u001b[38;5;124mt process that. Please try again.\u001b[39m\u001b[38;5;124m\"\u001b[39m)\n\u001b[1;32m---> 58\u001b[0m Poshbot()\n",
      "Cell \u001b[1;32mIn[7], line 9\u001b[0m, in \u001b[0;36mPoshbot\u001b[1;34m()\u001b[0m\n\u001b[0;32m      6\u001b[0m predicted_intent \u001b[38;5;241m=\u001b[39m \u001b[38;5;28;01mNone\u001b[39;00m\n\u001b[0;32m      8\u001b[0m \u001b[38;5;28;01mwhile\u001b[39;00m \u001b[38;5;28;01mTrue\u001b[39;00m:\n\u001b[1;32m----> 9\u001b[0m     user_input \u001b[38;5;241m=\u001b[39m \u001b[38;5;28minput\u001b[39m(\u001b[38;5;124m\"\u001b[39m\u001b[38;5;124mYou 🫥: \u001b[39m\u001b[38;5;124m\"\u001b[39m)\u001b[38;5;241m.\u001b[39mstrip()\n\u001b[0;32m     11\u001b[0m     \u001b[38;5;28;01mif\u001b[39;00m user_input\u001b[38;5;241m.\u001b[39mlower() \u001b[38;5;129;01min\u001b[39;00m [\u001b[38;5;124m\"\u001b[39m\u001b[38;5;124mi am done\u001b[39m\u001b[38;5;124m\"\u001b[39m, \u001b[38;5;124m\"\u001b[39m\u001b[38;5;124mexit\u001b[39m\u001b[38;5;124m\"\u001b[39m, \u001b[38;5;124m\"\u001b[39m\u001b[38;5;124mquit\u001b[39m\u001b[38;5;124m\"\u001b[39m]:\n\u001b[0;32m     12\u001b[0m         \u001b[38;5;28mprint\u001b[39m(\u001b[38;5;124m\"\u001b[39m\u001b[38;5;124mBot 🤖: Thanks for choosing Poshem Technologies Institution. This is your course ID. You\u001b[39m\u001b[38;5;124m'\u001b[39m\u001b[38;5;124mll get a mail from us shortly.\u001b[39m\u001b[38;5;124m\"\u001b[39m)\n",
      "File \u001b[1;32m~\\AppData\\Roaming\\Python\\Python312\\site-packages\\ipykernel\\kernelbase.py:1270\u001b[0m, in \u001b[0;36mKernel.raw_input\u001b[1;34m(self, prompt)\u001b[0m\n\u001b[0;32m   1268\u001b[0m     msg \u001b[38;5;241m=\u001b[39m \u001b[38;5;124m\"\u001b[39m\u001b[38;5;124mraw_input was called, but this frontend does not support input requests.\u001b[39m\u001b[38;5;124m\"\u001b[39m\n\u001b[0;32m   1269\u001b[0m     \u001b[38;5;28;01mraise\u001b[39;00m StdinNotImplementedError(msg)\n\u001b[1;32m-> 1270\u001b[0m \u001b[38;5;28;01mreturn\u001b[39;00m \u001b[38;5;28mself\u001b[39m\u001b[38;5;241m.\u001b[39m_input_request(\n\u001b[0;32m   1271\u001b[0m     \u001b[38;5;28mstr\u001b[39m(prompt),\n\u001b[0;32m   1272\u001b[0m     \u001b[38;5;28mself\u001b[39m\u001b[38;5;241m.\u001b[39m_parent_ident[\u001b[38;5;124m\"\u001b[39m\u001b[38;5;124mshell\u001b[39m\u001b[38;5;124m\"\u001b[39m],\n\u001b[0;32m   1273\u001b[0m     \u001b[38;5;28mself\u001b[39m\u001b[38;5;241m.\u001b[39mget_parent(\u001b[38;5;124m\"\u001b[39m\u001b[38;5;124mshell\u001b[39m\u001b[38;5;124m\"\u001b[39m),\n\u001b[0;32m   1274\u001b[0m     password\u001b[38;5;241m=\u001b[39m\u001b[38;5;28;01mFalse\u001b[39;00m,\n\u001b[0;32m   1275\u001b[0m )\n",
      "File \u001b[1;32m~\\AppData\\Roaming\\Python\\Python312\\site-packages\\ipykernel\\kernelbase.py:1313\u001b[0m, in \u001b[0;36mKernel._input_request\u001b[1;34m(self, prompt, ident, parent, password)\u001b[0m\n\u001b[0;32m   1310\u001b[0m \u001b[38;5;28;01mexcept\u001b[39;00m \u001b[38;5;167;01mKeyboardInterrupt\u001b[39;00m:\n\u001b[0;32m   1311\u001b[0m     \u001b[38;5;66;03m# re-raise KeyboardInterrupt, to truncate traceback\u001b[39;00m\n\u001b[0;32m   1312\u001b[0m     msg \u001b[38;5;241m=\u001b[39m \u001b[38;5;124m\"\u001b[39m\u001b[38;5;124mInterrupted by user\u001b[39m\u001b[38;5;124m\"\u001b[39m\n\u001b[1;32m-> 1313\u001b[0m     \u001b[38;5;28;01mraise\u001b[39;00m \u001b[38;5;167;01mKeyboardInterrupt\u001b[39;00m(msg) \u001b[38;5;28;01mfrom\u001b[39;00m \u001b[38;5;28;01mNone\u001b[39;00m\n\u001b[0;32m   1314\u001b[0m \u001b[38;5;28;01mexcept\u001b[39;00m \u001b[38;5;167;01mException\u001b[39;00m:\n\u001b[0;32m   1315\u001b[0m     \u001b[38;5;28mself\u001b[39m\u001b[38;5;241m.\u001b[39mlog\u001b[38;5;241m.\u001b[39mwarning(\u001b[38;5;124m\"\u001b[39m\u001b[38;5;124mInvalid Message:\u001b[39m\u001b[38;5;124m\"\u001b[39m, exc_info\u001b[38;5;241m=\u001b[39m\u001b[38;5;28;01mTrue\u001b[39;00m)\n",
      "\u001b[1;31mKeyboardInterrupt\u001b[0m: Interrupted by user"
     ]
    }
   ],
   "source": [
    "def Poshbot():\n",
    "    print(\"Bot 🤖: Hello! Welcome to Poshem Technologies. A fair greeting will be okay for us to attend to you:\")\n",
    "\n",
    "    in_registration = False\n",
    "    completed_registration = False\n",
    "    predicted_intent = None\n",
    "\n",
    "    while True:\n",
    "        user_input = input(\"You 🫥: \").strip()\n",
    "\n",
    "        if user_input.lower() in [\"i am done\", \"exit\", \"quit\"]:\n",
    "            print(\"Bot 🤖: Thanks for choosing Poshem Technologies Institution. This is your course ID. You'll get a mail from us shortly.\")\n",
    "            break\n",
    "\n",
    "        try:\n",
    "            # Handle registration flow\n",
    "            if in_registration and not completed_registration:\n",
    "                try:\n",
    "                    name, dob, qualification, phone_number, email, course = extract_profile(user_input)\n",
    "\n",
    "                    print(\"Bot 🤖: Thank you! Here's your profile:\")\n",
    "                    print(f\"Name: {name}\")\n",
    "                    print(f\"DOB: {dob}\")\n",
    "                    print(f\"Qualification: {qualification}\")\n",
    "                    print(f\"Phone: {phone_number}\")\n",
    "                    print(f\"Email: {email}\")\n",
    "                    print(f\"Course: {course}\")\n",
    "                    print(\"Bot 🤖: Your registration is complete! ✅\")\n",
    "\n",
    "                    completed_registration = True\n",
    "                    in_registration = False\n",
    "\n",
    "                    # Return to main menu prompt\n",
    "                    print(\"Bot 🤖: What else would you like to do?\")\n",
    "                    print(\"Bot 🤖: You can ask about courses, enroll again, or say 'exit' to quit.\")\n",
    "\n",
    "                    continue\n",
    "                except Exception as e:\n",
    "                    print(\"Bot 🤖: Sorry, I couldn't extract your enrollment details. Please try again.\")\n",
    "                    continue\n",
    "\n",
    "            # Intent prediction\n",
    "            predicted_intent = user_input_to_model(user_input)\n",
    "            bot_response = response_function(predicted_intent)\n",
    "\n",
    "            print(f\"Bot 🤖: {bot_response}\")\n",
    "\n",
    "            if predicted_intent == 1:  # Assuming '1' is the enrollment intent\n",
    "                in_registration = True\n",
    "                completed_registration = False  # Reset in case of re-enrollment\n",
    "                continue\n",
    "\n",
    "            log_interaction(user_input, predicted_intent, bot_response)\n",
    "\n",
    "        except Exception as e:\n",
    "            print(\"Bot 🤖: Sorry, I couldn't process that. Please try again.\")\n",
    "\n",
    "Poshbot()"
   ]
  },
  {
   "cell_type": "code",
   "execution_count": null,
   "id": "954a37bd-32cc-4dac-b34d-3fcee28b67c2",
   "metadata": {},
   "outputs": [],
   "source": []
  }
 ],
 "metadata": {
  "kernelspec": {
   "display_name": "Python 3 (ipykernel)",
   "language": "python",
   "name": "python3"
  },
  "language_info": {
   "codemirror_mode": {
    "name": "ipython",
    "version": 3
   },
   "file_extension": ".py",
   "mimetype": "text/x-python",
   "name": "python",
   "nbconvert_exporter": "python",
   "pygments_lexer": "ipython3",
   "version": "3.12.7"
  }
 },
 "nbformat": 4,
 "nbformat_minor": 5
}
