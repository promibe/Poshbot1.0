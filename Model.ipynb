{
 "cells": [
  {
   "cell_type": "markdown",
   "id": "5d95e505-04d9-4d30-a225-b89aed94c99d",
   "metadata": {},
   "source": [
    "## Model Notebook"
   ]
  },
  {
   "cell_type": "code",
   "execution_count": 1,
   "id": "619a11ac-030f-4cb5-9039-e0cb7181c123",
   "metadata": {},
   "outputs": [],
   "source": [
    "# intents\n",
    "# 1. Greetings\n",
    "# 2. enrollment\n",
    "# 3. pricing\n",
    "# 4. Track\n",
    "# 5. Fallback_input"
   ]
  },
  {
   "cell_type": "code",
   "execution_count": 237,
   "id": "f5067b89-473a-4285-85ba-147ebaa45e54",
   "metadata": {},
   "outputs": [],
   "source": [
    "import pandas as pd"
   ]
  },
  {
   "cell_type": "code",
   "execution_count": 291,
   "id": "aaa1e831-3c7b-4f21-a6f9-779f01ef2d7f",
   "metadata": {},
   "outputs": [],
   "source": [
    "df = pd.read_csv('training_phrase.csv')[['phrase','intent']]"
   ]
  },
  {
   "cell_type": "code",
   "execution_count": 292,
   "id": "bf4b996e-0ba7-4056-a532-70ec1ded54e1",
   "metadata": {
    "scrolled": true
   },
   "outputs": [],
   "source": [
    "# Convert the dictionary to a DataFrame\n",
    "#df = pd.DataFrame([(phrase,intent) for intent, phrases in training_phrases.items() for phrase in phrases], columns=[\"phrase\",\"intent\"])"
   ]
  },
  {
   "cell_type": "code",
   "execution_count": 295,
   "id": "0e3ad9f6-5744-4b7e-93a8-3578680fca5b",
   "metadata": {},
   "outputs": [],
   "source": [
    "df['phrase'] = df['phrase'].str.lower()"
   ]
  },
  {
   "cell_type": "code",
   "execution_count": 296,
   "id": "1ad9e541-e344-4b24-9af9-b5f8e47f27c1",
   "metadata": {},
   "outputs": [
    {
     "data": {
      "text/plain": [
       "intent\n",
       "greetings     150\n",
       "enrollment    129\n",
       "fallback      110\n",
       "pricing       101\n",
       "tracking       90\n",
       "Name: count, dtype: int64"
      ]
     },
     "execution_count": 296,
     "metadata": {},
     "output_type": "execute_result"
    }
   ],
   "source": [
    "df.intent.value_counts()"
   ]
  },
  {
   "cell_type": "code",
   "execution_count": 297,
   "id": "175b2075-f54c-4599-a950-0a211a019862",
   "metadata": {},
   "outputs": [],
   "source": [
    "df.dropna(inplace=True)"
   ]
  },
  {
   "cell_type": "code",
   "execution_count": 298,
   "id": "4ee7aea3-498f-4ca9-957d-2ea5c5ed2457",
   "metadata": {},
   "outputs": [],
   "source": [
    "#df.to_csv('training_phrase.csv')"
   ]
  },
  {
   "cell_type": "code",
   "execution_count": 299,
   "id": "fc43275d-e6c3-4bed-bc70-2f4fe6b49a9c",
   "metadata": {},
   "outputs": [
    {
     "data": {
      "text/html": [
       "<div>\n",
       "<style scoped>\n",
       "    .dataframe tbody tr th:only-of-type {\n",
       "        vertical-align: middle;\n",
       "    }\n",
       "\n",
       "    .dataframe tbody tr th {\n",
       "        vertical-align: top;\n",
       "    }\n",
       "\n",
       "    .dataframe thead th {\n",
       "        text-align: right;\n",
       "    }\n",
       "</style>\n",
       "<table border=\"1\" class=\"dataframe\">\n",
       "  <thead>\n",
       "    <tr style=\"text-align: right;\">\n",
       "      <th></th>\n",
       "      <th>phrase</th>\n",
       "      <th>intent</th>\n",
       "    </tr>\n",
       "  </thead>\n",
       "  <tbody>\n",
       "    <tr>\n",
       "      <th>0</th>\n",
       "      <td>hello</td>\n",
       "      <td>greetings</td>\n",
       "    </tr>\n",
       "    <tr>\n",
       "      <th>1</th>\n",
       "      <td>hi</td>\n",
       "      <td>greetings</td>\n",
       "    </tr>\n",
       "    <tr>\n",
       "      <th>2</th>\n",
       "      <td>hey</td>\n",
       "      <td>greetings</td>\n",
       "    </tr>\n",
       "    <tr>\n",
       "      <th>3</th>\n",
       "      <td>good day</td>\n",
       "      <td>greetings</td>\n",
       "    </tr>\n",
       "    <tr>\n",
       "      <th>4</th>\n",
       "      <td>howdy</td>\n",
       "      <td>greetings</td>\n",
       "    </tr>\n",
       "  </tbody>\n",
       "</table>\n",
       "</div>"
      ],
      "text/plain": [
       "     phrase     intent\n",
       "0     hello  greetings\n",
       "1        hi  greetings\n",
       "2       hey  greetings\n",
       "3  good day  greetings\n",
       "4     howdy  greetings"
      ]
     },
     "execution_count": 299,
     "metadata": {},
     "output_type": "execute_result"
    }
   ],
   "source": [
    "#df = pd.concat([df, df_fallback])\n",
    "df.head()"
   ]
  },
  {
   "cell_type": "code",
   "execution_count": 300,
   "id": "90d20bc6-7068-4706-a0e7-db4675e1ccbc",
   "metadata": {},
   "outputs": [
    {
     "data": {
      "text/plain": [
       "array(['greetings', 'enrollment', 'pricing', 'tracking', 'fallback'],\n",
       "      dtype=object)"
      ]
     },
     "execution_count": 300,
     "metadata": {},
     "output_type": "execute_result"
    }
   ],
   "source": [
    "df.intent.unique()"
   ]
  },
  {
   "cell_type": "code",
   "execution_count": 301,
   "id": "46696f43-dc5b-4ce8-8ec3-a065cad99c88",
   "metadata": {},
   "outputs": [
    {
     "data": {
      "text/plain": [
       "(580, 2)"
      ]
     },
     "execution_count": 301,
     "metadata": {},
     "output_type": "execute_result"
    }
   ],
   "source": [
    "df.shape"
   ]
  },
  {
   "cell_type": "code",
   "execution_count": 302,
   "id": "18a07862-63e0-49e5-8f56-628f2b641132",
   "metadata": {},
   "outputs": [],
   "source": [
    "target_map = {'greetings':0, 'enrollment':1, 'pricing':2, 'tracking':3, 'fallback':4}"
   ]
  },
  {
   "cell_type": "code",
   "execution_count": 303,
   "id": "0ba79417-312e-4cb5-9f00-25767e4c2ea3",
   "metadata": {},
   "outputs": [],
   "source": [
    "df['target'] = df['intent'].map(target_map)"
   ]
  },
  {
   "cell_type": "code",
   "execution_count": null,
   "id": "e289f186-e83a-4c0e-ace8-644dd3a2b3aa",
   "metadata": {},
   "outputs": [],
   "source": []
  },
  {
   "cell_type": "code",
   "execution_count": 304,
   "id": "0fdb3793-7ab6-4718-96c0-fd346b0604c2",
   "metadata": {},
   "outputs": [
    {
     "data": {
      "text/html": [
       "<div>\n",
       "<style scoped>\n",
       "    .dataframe tbody tr th:only-of-type {\n",
       "        vertical-align: middle;\n",
       "    }\n",
       "\n",
       "    .dataframe tbody tr th {\n",
       "        vertical-align: top;\n",
       "    }\n",
       "\n",
       "    .dataframe thead th {\n",
       "        text-align: right;\n",
       "    }\n",
       "</style>\n",
       "<table border=\"1\" class=\"dataframe\">\n",
       "  <thead>\n",
       "    <tr style=\"text-align: right;\">\n",
       "      <th></th>\n",
       "      <th>phrase</th>\n",
       "      <th>intent</th>\n",
       "      <th>target</th>\n",
       "    </tr>\n",
       "  </thead>\n",
       "  <tbody>\n",
       "    <tr>\n",
       "      <th>0</th>\n",
       "      <td>hello</td>\n",
       "      <td>greetings</td>\n",
       "      <td>0</td>\n",
       "    </tr>\n",
       "    <tr>\n",
       "      <th>1</th>\n",
       "      <td>hi</td>\n",
       "      <td>greetings</td>\n",
       "      <td>0</td>\n",
       "    </tr>\n",
       "    <tr>\n",
       "      <th>2</th>\n",
       "      <td>hey</td>\n",
       "      <td>greetings</td>\n",
       "      <td>0</td>\n",
       "    </tr>\n",
       "    <tr>\n",
       "      <th>3</th>\n",
       "      <td>good day</td>\n",
       "      <td>greetings</td>\n",
       "      <td>0</td>\n",
       "    </tr>\n",
       "    <tr>\n",
       "      <th>4</th>\n",
       "      <td>howdy</td>\n",
       "      <td>greetings</td>\n",
       "      <td>0</td>\n",
       "    </tr>\n",
       "    <tr>\n",
       "      <th>...</th>\n",
       "      <td>...</td>\n",
       "      <td>...</td>\n",
       "      <td>...</td>\n",
       "    </tr>\n",
       "    <tr>\n",
       "      <th>576</th>\n",
       "      <td>too many words</td>\n",
       "      <td>fallback</td>\n",
       "      <td>4</td>\n",
       "    </tr>\n",
       "    <tr>\n",
       "      <th>577</th>\n",
       "      <td>hmmmmmm</td>\n",
       "      <td>fallback</td>\n",
       "      <td>4</td>\n",
       "    </tr>\n",
       "    <tr>\n",
       "      <th>578</th>\n",
       "      <td>speak in french</td>\n",
       "      <td>fallback</td>\n",
       "      <td>4</td>\n",
       "    </tr>\n",
       "    <tr>\n",
       "      <th>579</th>\n",
       "      <td>i don’t want to talk</td>\n",
       "      <td>fallback</td>\n",
       "      <td>4</td>\n",
       "    </tr>\n",
       "    <tr>\n",
       "      <th>580</th>\n",
       "      <td>what’s your favorite movie?</td>\n",
       "      <td>fallback</td>\n",
       "      <td>4</td>\n",
       "    </tr>\n",
       "  </tbody>\n",
       "</table>\n",
       "<p>580 rows × 3 columns</p>\n",
       "</div>"
      ],
      "text/plain": [
       "                          phrase     intent  target\n",
       "0                          hello  greetings       0\n",
       "1                             hi  greetings       0\n",
       "2                            hey  greetings       0\n",
       "3                       good day  greetings       0\n",
       "4                          howdy  greetings       0\n",
       "..                           ...        ...     ...\n",
       "576               too many words   fallback       4\n",
       "577                      hmmmmmm   fallback       4\n",
       "578              speak in french   fallback       4\n",
       "579         i don’t want to talk   fallback       4\n",
       "580  what’s your favorite movie?   fallback       4\n",
       "\n",
       "[580 rows x 3 columns]"
      ]
     },
     "execution_count": 304,
     "metadata": {},
     "output_type": "execute_result"
    }
   ],
   "source": [
    "df"
   ]
  },
  {
   "cell_type": "code",
   "execution_count": 305,
   "id": "f728c6d4-fd53-4822-96c5-ec2fb444e0a8",
   "metadata": {},
   "outputs": [
    {
     "data": {
      "text/plain": [
       "target\n",
       "0    150\n",
       "1    129\n",
       "4    110\n",
       "2    101\n",
       "3     90\n",
       "Name: count, dtype: int64"
      ]
     },
     "execution_count": 305,
     "metadata": {},
     "output_type": "execute_result"
    }
   ],
   "source": [
    "df['target'].value_counts()"
   ]
  },
  {
   "cell_type": "code",
   "execution_count": 306,
   "id": "5a616407-ff4e-4d4c-a44e-b9bb09550885",
   "metadata": {},
   "outputs": [
    {
     "data": {
      "text/plain": [
       "array([0, 1, 2, 3, 4], dtype=int64)"
      ]
     },
     "execution_count": 306,
     "metadata": {},
     "output_type": "execute_result"
    }
   ],
   "source": [
    "df.target.unique()"
   ]
  },
  {
   "cell_type": "code",
   "execution_count": 307,
   "id": "d2e247b0-92e6-4441-baa7-f537d7fa28b9",
   "metadata": {},
   "outputs": [
    {
     "data": {
      "text/plain": [
       "array(['greetings', 'enrollment', 'pricing', 'tracking', 'fallback'],\n",
       "      dtype=object)"
      ]
     },
     "execution_count": 307,
     "metadata": {},
     "output_type": "execute_result"
    }
   ],
   "source": [
    "df.intent.unique()"
   ]
  },
  {
   "cell_type": "code",
   "execution_count": 308,
   "id": "706b8585-c662-4934-bfe0-8c13ea39e547",
   "metadata": {},
   "outputs": [],
   "source": [
    "#import spacy\n",
    "#nlp = spacy.load(\"en_core_web_lg\")"
   ]
  },
  {
   "cell_type": "code",
   "execution_count": 309,
   "id": "1356884f-7c7c-44e9-8058-c812fdf7d087",
   "metadata": {},
   "outputs": [],
   "source": [
    "#use this utility function to preprocess the text\n",
    "#1. Remove the stop words\n",
    "#2. Convert to base form using lemmatisation\n",
    "\n",
    "#def preprocess(text):\n",
    "#    doc = nlp(text)\n",
    "#    filtered_tokens = []\n",
    "#    for token in doc:\n",
    "#        if token.is_stop or token.is_punct:\n",
    "#            continue\n",
    "#        filtered_tokens.append(token.lemma_)\n",
    "#    return ' '.join(filtered_tokens)\n",
    "\n",
    "#create a new column \"preprocessed_text\" which store the clean form of given text [use apply and lambda function]\n",
    "#df['preprocessed_text'] = df['phrase'].apply(preprocess)\n"
   ]
  },
  {
   "cell_type": "code",
   "execution_count": 310,
   "id": "878f4836-2da4-42f0-a5fc-c0083d57785d",
   "metadata": {},
   "outputs": [
    {
     "data": {
      "text/html": [
       "<div>\n",
       "<style scoped>\n",
       "    .dataframe tbody tr th:only-of-type {\n",
       "        vertical-align: middle;\n",
       "    }\n",
       "\n",
       "    .dataframe tbody tr th {\n",
       "        vertical-align: top;\n",
       "    }\n",
       "\n",
       "    .dataframe thead th {\n",
       "        text-align: right;\n",
       "    }\n",
       "</style>\n",
       "<table border=\"1\" class=\"dataframe\">\n",
       "  <thead>\n",
       "    <tr style=\"text-align: right;\">\n",
       "      <th></th>\n",
       "      <th>phrase</th>\n",
       "      <th>intent</th>\n",
       "      <th>target</th>\n",
       "    </tr>\n",
       "  </thead>\n",
       "  <tbody>\n",
       "    <tr>\n",
       "      <th>0</th>\n",
       "      <td>hello</td>\n",
       "      <td>greetings</td>\n",
       "      <td>0</td>\n",
       "    </tr>\n",
       "    <tr>\n",
       "      <th>1</th>\n",
       "      <td>hi</td>\n",
       "      <td>greetings</td>\n",
       "      <td>0</td>\n",
       "    </tr>\n",
       "    <tr>\n",
       "      <th>2</th>\n",
       "      <td>hey</td>\n",
       "      <td>greetings</td>\n",
       "      <td>0</td>\n",
       "    </tr>\n",
       "    <tr>\n",
       "      <th>3</th>\n",
       "      <td>good day</td>\n",
       "      <td>greetings</td>\n",
       "      <td>0</td>\n",
       "    </tr>\n",
       "    <tr>\n",
       "      <th>4</th>\n",
       "      <td>howdy</td>\n",
       "      <td>greetings</td>\n",
       "      <td>0</td>\n",
       "    </tr>\n",
       "    <tr>\n",
       "      <th>...</th>\n",
       "      <td>...</td>\n",
       "      <td>...</td>\n",
       "      <td>...</td>\n",
       "    </tr>\n",
       "    <tr>\n",
       "      <th>576</th>\n",
       "      <td>too many words</td>\n",
       "      <td>fallback</td>\n",
       "      <td>4</td>\n",
       "    </tr>\n",
       "    <tr>\n",
       "      <th>577</th>\n",
       "      <td>hmmmmmm</td>\n",
       "      <td>fallback</td>\n",
       "      <td>4</td>\n",
       "    </tr>\n",
       "    <tr>\n",
       "      <th>578</th>\n",
       "      <td>speak in french</td>\n",
       "      <td>fallback</td>\n",
       "      <td>4</td>\n",
       "    </tr>\n",
       "    <tr>\n",
       "      <th>579</th>\n",
       "      <td>i don’t want to talk</td>\n",
       "      <td>fallback</td>\n",
       "      <td>4</td>\n",
       "    </tr>\n",
       "    <tr>\n",
       "      <th>580</th>\n",
       "      <td>what’s your favorite movie?</td>\n",
       "      <td>fallback</td>\n",
       "      <td>4</td>\n",
       "    </tr>\n",
       "  </tbody>\n",
       "</table>\n",
       "<p>580 rows × 3 columns</p>\n",
       "</div>"
      ],
      "text/plain": [
       "                          phrase     intent  target\n",
       "0                          hello  greetings       0\n",
       "1                             hi  greetings       0\n",
       "2                            hey  greetings       0\n",
       "3                       good day  greetings       0\n",
       "4                          howdy  greetings       0\n",
       "..                           ...        ...     ...\n",
       "576               too many words   fallback       4\n",
       "577                      hmmmmmm   fallback       4\n",
       "578              speak in french   fallback       4\n",
       "579         i don’t want to talk   fallback       4\n",
       "580  what’s your favorite movie?   fallback       4\n",
       "\n",
       "[580 rows x 3 columns]"
      ]
     },
     "execution_count": 310,
     "metadata": {},
     "output_type": "execute_result"
    }
   ],
   "source": [
    "df"
   ]
  },
  {
   "cell_type": "markdown",
   "id": "13f305da-f024-4e59-b67b-48c9d50096c3",
   "metadata": {},
   "source": [
    "### spacy word embedding"
   ]
  },
  {
   "cell_type": "code",
   "execution_count": 311,
   "id": "84a29840-031b-471e-9c26-67d8422aa940",
   "metadata": {},
   "outputs": [],
   "source": [
    "#create a new column \"vector\" that store the vector representation of each pre-processed text\n",
    "df['vector'] = df['phrase'].apply(lambda x: nlp(x).vector)"
   ]
  },
  {
   "cell_type": "code",
   "execution_count": 312,
   "id": "73a06ea4-0cc2-4399-b1da-6ec264a0497e",
   "metadata": {},
   "outputs": [],
   "source": [
    "### splitting into train and test set\n",
    "from sklearn.model_selection import train_test_split\n",
    "\n",
    "X_train, X_test, y_train, y_test = train_test_split(\n",
    "    df.vector,\n",
    "    df.target,\n",
    "    test_size=0.2,\n",
    "    random_state=2022,\n",
    "    stratify=df.target\n",
    ")"
   ]
  },
  {
   "cell_type": "code",
   "execution_count": 313,
   "id": "4ec5472c-ccef-4331-9fe5-26cf2e02e5e1",
   "metadata": {},
   "outputs": [],
   "source": [
    "from sklearn.metrics import classification_report"
   ]
  },
  {
   "cell_type": "code",
   "execution_count": 314,
   "id": "5bb794e0-f351-49ca-a48e-a0c17a481e0a",
   "metadata": {},
   "outputs": [],
   "source": [
    "import numpy as np\n",
    "\n",
    "#reshapes the X_train and X_test using 'stack' function of numpy. Store the result in new variables \"X_train_2d\" and \"X_test_2d\"\n",
    "X_train_2d = np.stack(X_train)\n",
    "X_test_2d =  np.stack(X_test)"
   ]
  },
  {
   "cell_type": "code",
   "execution_count": 315,
   "id": "a47f03d4-1351-4596-8d3a-5bddc2d2e42e",
   "metadata": {},
   "outputs": [],
   "source": [
    "from sklearn.naive_bayes import MultinomialNB\n",
    "from sklearn.preprocessing import MinMaxScaler\n",
    "\n",
    "\n",
    "scaler = MinMaxScaler()\n",
    "scaled_train_embed = scaler.fit_transform(X_train_2d)\n",
    "scaled_test_embed = scaler.transform(X_test_2d)"
   ]
  },
  {
   "cell_type": "code",
   "execution_count": 316,
   "id": "5d620dd4-a9cb-477f-89ad-1bec647ced16",
   "metadata": {},
   "outputs": [
    {
     "name": "stdout",
     "output_type": "stream",
     "text": [
      "              precision    recall  f1-score   support\n",
      "\n",
      "           0       0.96      0.73      0.83        30\n",
      "           1       0.84      1.00      0.91        26\n",
      "           2       1.00      0.90      0.95        20\n",
      "           3       1.00      1.00      1.00        18\n",
      "           4       0.73      0.86      0.79        22\n",
      "\n",
      "    accuracy                           0.89       116\n",
      "   macro avg       0.91      0.90      0.90       116\n",
      "weighted avg       0.90      0.89      0.89       116\n",
      "\n"
     ]
    }
   ],
   "source": [
    "from sklearn.svm import SVC\n",
    "\n",
    "clf = SVC()\n",
    "\n",
    "#2. fit with all_train_embeddings and y_train\n",
    "clf.fit(X_train_2d, y_train)\n",
    "\n",
    "#3. get the predictions for all_test_embeddings and store it in y_pred\n",
    "y_pred = clf.predict(X_test_2d)\n",
    "\n",
    "#4. print the classfication report\n",
    "print(classification_report(y_test, y_pred))"
   ]
  },
  {
   "cell_type": "markdown",
   "id": "d45ed912-e18a-4023-a43c-0147c6b3a14d",
   "metadata": {},
   "source": [
    "### SVM gave the best performance even without preprocessing"
   ]
  },
  {
   "cell_type": "code",
   "execution_count": null,
   "id": "53c6abcf-4d32-4c54-a581-faba03d678a8",
   "metadata": {},
   "outputs": [],
   "source": []
  },
  {
   "cell_type": "code",
   "execution_count": 110,
   "id": "e8fbbfca-ed3e-41c0-95ae-fdf70f8d0101",
   "metadata": {},
   "outputs": [],
   "source": [
    "text = 'i really want to register for '"
   ]
  },
  {
   "cell_type": "code",
   "execution_count": 114,
   "id": "5872a318-22bc-4639-ac83-b9ba3eb7ec12",
   "metadata": {},
   "outputs": [],
   "source": [
    "text = 'hello common nothing is here'"
   ]
  },
  {
   "cell_type": "code",
   "execution_count": 317,
   "id": "e7ba6c8c-072f-4579-b4b5-12f33430aa93",
   "metadata": {},
   "outputs": [],
   "source": [
    "text = 'hi how have you been'"
   ]
  },
  {
   "cell_type": "code",
   "execution_count": 318,
   "id": "83b52b39-1700-4f5f-bb7f-300e60a17bdc",
   "metadata": {},
   "outputs": [],
   "source": [
    "vector = nlp(text).vector"
   ]
  },
  {
   "cell_type": "code",
   "execution_count": 319,
   "id": "87ca2fc4-3383-4e93-b332-25c554f4cd9e",
   "metadata": {},
   "outputs": [],
   "source": [
    "text_vector =  np.stack(vector)"
   ]
  },
  {
   "cell_type": "code",
   "execution_count": 320,
   "id": "fa17c73a-37a0-46be-b7f8-d604dfb24713",
   "metadata": {},
   "outputs": [
    {
     "data": {
      "text/plain": [
       "0"
      ]
     },
     "execution_count": 320,
     "metadata": {},
     "output_type": "execute_result"
    }
   ],
   "source": [
    "clf.predict([text_vector])[0]"
   ]
  },
  {
   "cell_type": "code",
   "execution_count": 321,
   "id": "75876b92-10a3-4bfe-9f03-3dc92628cc30",
   "metadata": {},
   "outputs": [],
   "source": [
    "import pickle"
   ]
  },
  {
   "cell_type": "code",
   "execution_count": 322,
   "id": "a6c4bc8c-2764-4ecb-bdee-de0de763ebf7",
   "metadata": {},
   "outputs": [],
   "source": [
    "# Save the trained pipeline\n",
    "with open(\"intent_classifier.pkl\", \"wb\") as f:\n",
    "    pickle.dump(clf, f)"
   ]
  },
  {
   "cell_type": "code",
   "execution_count": 323,
   "id": "7c14ff37-815c-469c-8951-31d88ebe1886",
   "metadata": {},
   "outputs": [
    {
     "name": "stdout",
     "output_type": "stream",
     "text": [
      "4\n"
     ]
    }
   ],
   "source": [
    "# Load the saved pipeline\n",
    "with open(\"intent_classifier.pkl\", \"rb\") as f:\n",
    "    loaded_pipeline = pickle.load(f)\n",
    "\n",
    "# Example usage\n",
    "test_phrase = \"I'm bored\"\n",
    "vector = nlp(test_phrase).vector\n",
    "text_vector =  np.stack(vector)\n",
    "predicted_intent = loaded_pipeline.predict([text_vector])\n",
    "print(predicted_intent[0])\n"
   ]
  },
  {
   "cell_type": "code",
   "execution_count": 4,
   "id": "6d834614-c4ca-46aa-94d8-d91b81eede9b",
   "metadata": {},
   "outputs": [],
   "source": []
  },
  {
   "cell_type": "code",
   "execution_count": null,
   "id": "e84ffbde-592a-4117-97df-5c8c67f8e68c",
   "metadata": {},
   "outputs": [],
   "source": []
  },
  {
   "cell_type": "code",
   "execution_count": 324,
   "id": "926fa0a9-ec0e-49aa-a83e-b9a810ea0df1",
   "metadata": {},
   "outputs": [],
   "source": [
    "target_response = {0:'greetings', 1:'enrollment',2:'pricing', 3:'tracking',4:'fallback'}"
   ]
  },
  {
   "cell_type": "code",
   "execution_count": 325,
   "id": "62e40de7-a5a8-4b33-9ad7-8a42a2e86bec",
   "metadata": {},
   "outputs": [],
   "source": [
    "response = {\n",
    "    'greetings':['Nice, you are very much welcome to poshem, what do you want to do ? Register for a course ? \\nCheck the price of our courses? \\nConfirm your registered courses?'],\n",
    "    'enrollment':'kindly request for the course you want to register in this form\\n(e.g) My name is Promise, i am 30 years old, B-Tech computer science, this is my phone number: 07063083925, i want to learn Excel, this is my Phone number: 07063083925'\n",
    "}"
   ]
  },
  {
   "cell_type": "code",
   "execution_count": 220,
   "id": "4edf1640-c81a-4e2e-9009-97880940b5c3",
   "metadata": {},
   "outputs": [],
   "source": [
    "def user_input_to_model(user_input):\n",
    "    vector = nlp(user_input).vector\n",
    "    text_vector =  np.stack(vector)\n",
    "    predicted_intent = loaded_pipeline.predict([text_vector])\n",
    "    return predicted_intent\n",
    "    \n",
    "def response_function(user_intent):\n",
    "    if user_intent == 0:\n",
    "        return response['greetings'][0]\n",
    "    elif user_intent == 1:\n",
    "        return response['enrollment']\n",
    "    elif user_intent == 2:\n",
    "        return target_response[2]\n",
    "    elif user_intent == 3:\n",
    "        return target_response[3]\n",
    "    elif user_intent == 4:\n",
    "        return target_response[4]\n",
    "    else:\n",
    "        return user_intent"
   ]
  },
  {
   "cell_type": "code",
   "execution_count": 223,
   "id": "bb7ee44e-3a9f-4d72-9a2e-7cb8ac6aad3a",
   "metadata": {},
   "outputs": [
    {
     "name": "stdout",
     "output_type": "stream",
     "text": [
      "Hello! Welcome to Poshem Technologies, a fair greeting will be okay for us to attend to you: \n"
     ]
    },
    {
     "name": "stdin",
     "output_type": "stream",
     "text": [
      " hi\n"
     ]
    },
    {
     "name": "stdout",
     "output_type": "stream",
     "text": [
      "Nice, you are very much welcome to poshem, what do you want to do ? Register for a course ? \n",
      "Check the price of our courses? \n",
      "Confirm your registered courses?\n"
     ]
    },
    {
     "name": "stdin",
     "output_type": "stream",
     "text": [
      " i am done\n"
     ]
    },
    {
     "name": "stdout",
     "output_type": "stream",
     "text": [
      "Thanks for Choosing Poshem Technologies Institution\n"
     ]
    }
   ],
   "source": [
    "welcome_message = \"Hello! Welcome to Poshem Technologies, a fair greeting will be okay for us to attend to you: \"\n",
    "print(welcome_message)\n",
    "\n",
    "while True:\n",
    "    user_input = input()\n",
    "    user_intent = user_input_to_model(user_input)\n",
    "    bot_response = response_function(user_intent)\n",
    "    \n",
    "    if user_input.lower() == \"i am done\":  # or any other condition\n",
    "        print('Thanks for Choosing Poshem Technologies Institution')\n",
    "        break\n",
    "    else:\n",
    "        print(bot_response)"
   ]
  },
  {
   "cell_type": "code",
   "execution_count": 199,
   "id": "6751fc8f-9152-493d-84b0-1109d1df3088",
   "metadata": {},
   "outputs": [
    {
     "name": "stdout",
     "output_type": "stream",
     "text": [
      "Nice, you are very much welcome to poshem, what do you want to do ? Register for a course? \n",
      "Check the price of our courses? \n",
      "Confirm your registered courses?\n"
     ]
    }
   ],
   "source": [
    "print('Nice, you are very much welcome to poshem, what do you want to do ? Register for a course? \\nCheck the price of our courses? \\nConfirm your registered courses?')  "
   ]
  },
  {
   "cell_type": "code",
   "execution_count": 288,
   "id": "051feb6f-bab5-440d-b8f4-bdd60467bcc8",
   "metadata": {},
   "outputs": [
    {
     "name": "stdout",
     "output_type": "stream",
     "text": [
      "Bot: Hello! Welcome to Poshem Technologies, a fair greeting will be okay for us to attend to you: \n"
     ]
    },
    {
     "name": "stdin",
     "output_type": "stream",
     "text": [
      "You:  I am bored\n"
     ]
    },
    {
     "name": "stdout",
     "output_type": "stream",
     "text": [
      "Bot: Hmm, I'm not sure what you mean. Try asking about enrollment or pricing, read my previous prompt and respond accordingly.\n"
     ]
    },
    {
     "name": "stdin",
     "output_type": "stream",
     "text": [
      "You:  Hi\n"
     ]
    },
    {
     "name": "stdout",
     "output_type": "stream",
     "text": [
      "Bot: Nice, you are very much welcome to poshem, what do you want to do ? Register for a course ? \n",
      "Check the price of our courses? \n",
      "Confirm your registered courses?\n"
     ]
    },
    {
     "name": "stdin",
     "output_type": "stream",
     "text": [
      "You:  i want to register for a course\n"
     ]
    },
    {
     "name": "stdout",
     "output_type": "stream",
     "text": [
      "Bot: kindly request for the course you want to register in this form\n",
      "(e.g) My name is Promise, i am 30 years old, B-Tech computer science, this is my phone number: 07063083925, i want to learn Excel, this is my Phone number: 07063083925\n"
     ]
    },
    {
     "name": "stdin",
     "output_type": "stream",
     "text": [
      "You:  i want to track my courses\n"
     ]
    },
    {
     "name": "stdout",
     "output_type": "stream",
     "text": [
      "Bot: To track your course, Kindly let me know your ID.\n"
     ]
    },
    {
     "name": "stdin",
     "output_type": "stream",
     "text": [
      "You:  i want to know the course i have registered\n"
     ]
    },
    {
     "name": "stdout",
     "output_type": "stream",
     "text": [
      "Bot: kindly request for the course you want to register in this form\n",
      "(e.g) My name is Promise, i am 30 years old, B-Tech computer science, this is my phone number: 07063083925, i want to learn Excel, this is my Phone number: 07063083925\n"
     ]
    },
    {
     "name": "stdin",
     "output_type": "stream",
     "text": [
      "You:  i want to know about the courses i have registered\n"
     ]
    },
    {
     "name": "stdout",
     "output_type": "stream",
     "text": [
      "Bot: kindly request for the course you want to register in this form\n",
      "(e.g) My name is Promise, i am 30 years old, B-Tech computer science, this is my phone number: 07063083925, i want to learn Excel, this is my Phone number: 07063083925\n"
     ]
    },
    {
     "name": "stdin",
     "output_type": "stream",
     "text": [
      "You:  kindly show me the courses i registered\n"
     ]
    },
    {
     "name": "stdout",
     "output_type": "stream",
     "text": [
      "Bot: To track your course, Kindly let me know your ID.\n"
     ]
    },
    {
     "name": "stdin",
     "output_type": "stream",
     "text": [
      "You:  exit\n"
     ]
    },
    {
     "name": "stdout",
     "output_type": "stream",
     "text": [
      "Bot: Thanks for Choosing Poshem Technologies Institution. This is your order Id\n"
     ]
    }
   ],
   "source": [
    "import numpy as np\n",
    "\n",
    "target_response = {\n",
    "    0: 'greetings',\n",
    "    1: 'enrollment',\n",
    "    2: 'pricing',\n",
    "    3: 'tracking',\n",
    "    4: 'fallback'\n",
    "}\n",
    "\n",
    "fallback_responses = [\n",
    "    \"Sorry, I didn’t quite understand that. Can you rephrase, read my previous prompt and respond accordingly?\",\n",
    "    \"Hmm, I'm not sure what you mean. Try asking about enrollment or pricing, read my previous prompt and respond accordingly.\",\n",
    "    \"Let’s try that again. Ask about courses, prices, or tracking progress, read my previous prompt and respond accordingly\"\n",
    "]\n",
    "\n",
    "# You can customize this based on your chatbot personality\n",
    "response = {\n",
    "    'greetings':['Nice, you are very much welcome to poshem, what do you want to do ? Register for a course ? \\nCheck the price of our courses? \\nConfirm your registered courses?'],\n",
    "    'enrollment':'kindly request for the course you want to register in this form\\n(e.g) My name is Promise, i am 30 years old, B-Tech computer science, this is my phone number: 07063083925, i want to learn Excel, this is my Phone number: 07063083925',\n",
    "    'pricing': \"Our pricing varies by course. Here is the breakdown?\",\n",
    "    'tracking': \"To track your course, Kindly let me know your ID.\",\n",
    "    'fallback': fallback_responses\n",
    "}\n",
    "\n",
    "def user_input_to_model(user_input):\n",
    "    vector = nlp(user_input).vector\n",
    "    predicted_intent = loaded_pipeline.predict([vector])[0]  # Extract the single prediction\n",
    "    return predicted_intent\n",
    "\n",
    "def response_function(user_intent):\n",
    "    if user_intent == 0:\n",
    "        return response['greetings'][0]\n",
    "    elif user_intent == 1:\n",
    "        return response['enrollment']\n",
    "    elif user_intent == 2:\n",
    "        return response['pricing']\n",
    "    elif user_intent == 3:\n",
    "        return response['tracking']\n",
    "    elif user_intent == 4:\n",
    "        # Randomly pick a fallback message to make responses feel dynamic\n",
    "        return np.random.choice(response['fallback'])\n",
    "    else:\n",
    "        return \"Oops, something went wrong.\"\n",
    "\n",
    "# Start chatbot loop\n",
    "welcome_message = \"Bot: Hello! Welcome to Poshem Technologies, a fair greeting will be okay for us to attend to you: \"\n",
    "print(welcome_message)\n",
    "\n",
    "while True:\n",
    "    user_input = input(\"You: \")\n",
    "    \n",
    "    if user_input.lower() in [\"i am done\", \"exit\", \"quit\"]:\n",
    "        print('Bot: Thanks for Choosing Poshem Technologies Institution. This is your order Id')\n",
    "        break\n",
    "\n",
    "    user_intent = user_input_to_model(user_input)\n",
    "    bot_response = response_function(user_intent)\n",
    "    print(f\"Bot: {bot_response}\")\n"
   ]
  },
  {
   "cell_type": "code",
   "execution_count": null,
   "id": "cae24b81-3037-4df8-a946-08faa2fdd61f",
   "metadata": {},
   "outputs": [],
   "source": []
  },
  {
   "cell_type": "code",
   "execution_count": null,
   "id": "83821ede-6e3b-4dd8-a8e4-6bbf6bec8442",
   "metadata": {},
   "outputs": [],
   "source": []
  },
  {
   "cell_type": "code",
   "execution_count": null,
   "id": "feae0c83-fed5-4b3a-bf9b-529cbbbed96c",
   "metadata": {},
   "outputs": [],
   "source": []
  },
  {
   "cell_type": "code",
   "execution_count": null,
   "id": "354f2047-54be-47c7-a707-e42267e18ea1",
   "metadata": {},
   "outputs": [],
   "source": []
  },
  {
   "cell_type": "code",
   "execution_count": 327,
   "id": "e3a83481-f8a0-4e88-b7a2-8b2534f2aed4",
   "metadata": {},
   "outputs": [
    {
     "name": "stdout",
     "output_type": "stream",
     "text": [
      "Bot: Hello! Welcome to Poshem Technologies, a fair greeting will be okay for us to attend to you:\n"
     ]
    },
    {
     "name": "stdin",
     "output_type": "stream",
     "text": [
      "You:  Hi\n"
     ]
    },
    {
     "name": "stdout",
     "output_type": "stream",
     "text": [
      "Bot: Nice, you are very much welcome to Poshem! What do you want to do?\n",
      "- Register for a course?\n",
      "- Check the price of our courses?\n",
      "- Confirm your registered courses?\n"
     ]
    },
    {
     "ename": "KeyboardInterrupt",
     "evalue": "Interrupted by user",
     "output_type": "error",
     "traceback": [
      "\u001b[1;31m---------------------------------------------------------------------------\u001b[0m",
      "\u001b[1;31mKeyboardInterrupt\u001b[0m                         Traceback (most recent call last)",
      "Cell \u001b[1;32mIn[327], line 53\u001b[0m\n\u001b[0;32m     50\u001b[0m \u001b[38;5;28mprint\u001b[39m(\u001b[38;5;124m\"\u001b[39m\u001b[38;5;124mBot: Hello! Welcome to Poshem Technologies, a fair greeting will be okay for us to attend to you:\u001b[39m\u001b[38;5;124m\"\u001b[39m)\n\u001b[0;32m     52\u001b[0m \u001b[38;5;28;01mwhile\u001b[39;00m \u001b[38;5;28;01mTrue\u001b[39;00m:\n\u001b[1;32m---> 53\u001b[0m     user_input \u001b[38;5;241m=\u001b[39m \u001b[38;5;28minput\u001b[39m(\u001b[38;5;124m\"\u001b[39m\u001b[38;5;124mYou: \u001b[39m\u001b[38;5;124m\"\u001b[39m)\u001b[38;5;241m.\u001b[39mstrip()\n\u001b[0;32m     54\u001b[0m     user_input \u001b[38;5;241m=\u001b[39m user_input\u001b[38;5;241m.\u001b[39mlower()\n\u001b[0;32m     56\u001b[0m     \u001b[38;5;28;01mif\u001b[39;00m user_input\u001b[38;5;241m.\u001b[39mlower() \u001b[38;5;129;01min\u001b[39;00m [\u001b[38;5;124m\"\u001b[39m\u001b[38;5;124mi am done\u001b[39m\u001b[38;5;124m\"\u001b[39m, \u001b[38;5;124m\"\u001b[39m\u001b[38;5;124mexit\u001b[39m\u001b[38;5;124m\"\u001b[39m, \u001b[38;5;124m\"\u001b[39m\u001b[38;5;124mquit\u001b[39m\u001b[38;5;124m\"\u001b[39m]:\n",
      "File \u001b[1;32m~\\AppData\\Roaming\\Python\\Python312\\site-packages\\ipykernel\\kernelbase.py:1270\u001b[0m, in \u001b[0;36mKernel.raw_input\u001b[1;34m(self, prompt)\u001b[0m\n\u001b[0;32m   1268\u001b[0m     msg \u001b[38;5;241m=\u001b[39m \u001b[38;5;124m\"\u001b[39m\u001b[38;5;124mraw_input was called, but this frontend does not support input requests.\u001b[39m\u001b[38;5;124m\"\u001b[39m\n\u001b[0;32m   1269\u001b[0m     \u001b[38;5;28;01mraise\u001b[39;00m StdinNotImplementedError(msg)\n\u001b[1;32m-> 1270\u001b[0m \u001b[38;5;28;01mreturn\u001b[39;00m \u001b[38;5;28mself\u001b[39m\u001b[38;5;241m.\u001b[39m_input_request(\n\u001b[0;32m   1271\u001b[0m     \u001b[38;5;28mstr\u001b[39m(prompt),\n\u001b[0;32m   1272\u001b[0m     \u001b[38;5;28mself\u001b[39m\u001b[38;5;241m.\u001b[39m_parent_ident[\u001b[38;5;124m\"\u001b[39m\u001b[38;5;124mshell\u001b[39m\u001b[38;5;124m\"\u001b[39m],\n\u001b[0;32m   1273\u001b[0m     \u001b[38;5;28mself\u001b[39m\u001b[38;5;241m.\u001b[39mget_parent(\u001b[38;5;124m\"\u001b[39m\u001b[38;5;124mshell\u001b[39m\u001b[38;5;124m\"\u001b[39m),\n\u001b[0;32m   1274\u001b[0m     password\u001b[38;5;241m=\u001b[39m\u001b[38;5;28;01mFalse\u001b[39;00m,\n\u001b[0;32m   1275\u001b[0m )\n",
      "File \u001b[1;32m~\\AppData\\Roaming\\Python\\Python312\\site-packages\\ipykernel\\kernelbase.py:1313\u001b[0m, in \u001b[0;36mKernel._input_request\u001b[1;34m(self, prompt, ident, parent, password)\u001b[0m\n\u001b[0;32m   1310\u001b[0m \u001b[38;5;28;01mexcept\u001b[39;00m \u001b[38;5;167;01mKeyboardInterrupt\u001b[39;00m:\n\u001b[0;32m   1311\u001b[0m     \u001b[38;5;66;03m# re-raise KeyboardInterrupt, to truncate traceback\u001b[39;00m\n\u001b[0;32m   1312\u001b[0m     msg \u001b[38;5;241m=\u001b[39m \u001b[38;5;124m\"\u001b[39m\u001b[38;5;124mInterrupted by user\u001b[39m\u001b[38;5;124m\"\u001b[39m\n\u001b[1;32m-> 1313\u001b[0m     \u001b[38;5;28;01mraise\u001b[39;00m \u001b[38;5;167;01mKeyboardInterrupt\u001b[39;00m(msg) \u001b[38;5;28;01mfrom\u001b[39;00m \u001b[38;5;28;01mNone\u001b[39;00m\n\u001b[0;32m   1314\u001b[0m \u001b[38;5;28;01mexcept\u001b[39;00m \u001b[38;5;167;01mException\u001b[39;00m:\n\u001b[0;32m   1315\u001b[0m     \u001b[38;5;28mself\u001b[39m\u001b[38;5;241m.\u001b[39mlog\u001b[38;5;241m.\u001b[39mwarning(\u001b[38;5;124m\"\u001b[39m\u001b[38;5;124mInvalid Message:\u001b[39m\u001b[38;5;124m\"\u001b[39m, exc_info\u001b[38;5;241m=\u001b[39m\u001b[38;5;28;01mTrue\u001b[39;00m)\n",
      "\u001b[1;31mKeyboardInterrupt\u001b[0m: Interrupted by user"
     ]
    }
   ],
   "source": [
    "# Intent mapping\n",
    "target_response = {\n",
    "    0: 'greetings',\n",
    "    1: 'enrollment',\n",
    "    2: 'pricing',\n",
    "    3: 'tracking',\n",
    "    4: 'fallback'\n",
    "}\n",
    "\n",
    "# Response templates\n",
    "fallback_responses = [\n",
    "    \"Sorry, I didn’t quite understand that. Can you rephrase, read my previous prompt and respond accordingly?\",\n",
    "    \"Hmm, I'm not sure what you mean. Try asking about enrollment or pricing, read my previous prompt and respond accordingly.\",\n",
    "    \"Let’s try that again. Ask about courses, prices, or tracking progress, read my previous prompt and respond accordingly\"\n",
    "]\n",
    "\n",
    "response = {\n",
    "    'greetings': [\n",
    "        \"Nice, you are very much welcome to Poshem! What do you want to do?\\n\"\n",
    "        \"- Register for a course?\\n- Check the price of our courses?\\n- Confirm your registered courses?\"\n",
    "    ],\n",
    "    'enrollment': (\n",
    "        \"Kindly request for the course you want to register in this format:\\n\"\n",
    "        \"(e.g.) My name is Promise, I am 30 years old, B-Tech Computer Science.\\n\"\n",
    "        \"This is my phone number: 07063083925.\\n\"\n",
    "        \"I want to learn Excel.\"\n",
    "    ),\n",
    "    'pricing': \"Our pricing varies by course. Here is the breakdown...\",\n",
    "    'tracking': \"To track your course, kindly let me know your ID.\",\n",
    "    'fallback': fallback_responses\n",
    "}\n",
    "\n",
    "# Convert user input to predicted intent\n",
    "def user_input_to_model(user_input):\n",
    "    vector = nlp(user_input).vector\n",
    "    predicted_intent = loaded_pipeline.predict([vector])[0]  # Extract single prediction\n",
    "    return predicted_intent\n",
    "\n",
    "# Generate bot response based on predicted intent\n",
    "def response_function(user_intent):\n",
    "    intent_label = target_response.get(user_intent, 'fallback')\n",
    "\n",
    "    if intent_label == 'fallback':\n",
    "        return np.random.choice(response['fallback'])\n",
    "\n",
    "    reply = response.get(intent_label)\n",
    "    return reply[0] if isinstance(reply, list) else reply\n",
    "\n",
    "# Start the chatbot loop\n",
    "print(\"Bot: Hello! Welcome to Poshem Technologies, a fair greeting will be okay for us to attend to you:\")\n",
    "\n",
    "while True:\n",
    "    user_input = input(\"You: \").strip()\n",
    "    user_input = user_input.lower()\n",
    "\n",
    "    if user_input.lower() in [\"i am done\", \"exit\", \"quit\"]:\n",
    "        print('Bot: Thanks for choosing Poshem Technologies Institution. This is your order ID.')\n",
    "        break\n",
    "\n",
    "    try:\n",
    "        user_intent = user_input_to_model(user_input)\n",
    "        intent_label = target_response.get(user_intent, 'fallback')\n",
    "\n",
    "        bot_response = response_function(user_intent)\n",
    "        print(f\"Bot: {bot_response}\")\n",
    "\n",
    "    except Exception as e:\n",
    "        print(\"Bot: Sorry, I couldn't process that. Please try again or ask for help.\")\n"
   ]
  },
  {
   "cell_type": "markdown",
   "id": "ad74ab92-a63d-4eca-846a-abcaca83986e",
   "metadata": {},
   "source": [
    "### improvement"
   ]
  },
  {
   "cell_type": "code",
   "execution_count": null,
   "id": "957087fd-6059-42eb-b385-08922acbbed2",
   "metadata": {},
   "outputs": [],
   "source": []
  },
  {
   "cell_type": "code",
   "execution_count": 8,
   "id": "9efafdbe-8832-4a75-b78f-3bd883aa9388",
   "metadata": {},
   "outputs": [
    {
     "name": "stdout",
     "output_type": "stream",
     "text": [
      "Bot 🤖: Hello! Welcome to Poshem Technologies, a fair greeting will be okay for us to attend to you:\n"
     ]
    },
    {
     "name": "stdin",
     "output_type": "stream",
     "text": [
      "You 🫥:  Greetings\n"
     ]
    },
    {
     "name": "stdout",
     "output_type": "stream",
     "text": [
      "Bot 🤖: Nice, you are very much welcome to Poshem! What do you want to do?\n",
      "- Register for a course?\n",
      "- Check the price of our courses?\n",
      "- Confirm your registered courses?\n"
     ]
    },
    {
     "name": "stdin",
     "output_type": "stream",
     "text": [
      "You 🫥:  i want to signup for a course\n"
     ]
    },
    {
     "name": "stdout",
     "output_type": "stream",
     "text": [
      "Bot 🤖: Kindly request for the course you want to register in this format:\n",
      "(e.g.) My name is Promise, I am 30 years old, B-Tech Computer Science.\n",
      "This is my phone number: 07063083925.\n",
      "I want to learn Excel.\n"
     ]
    },
    {
     "ename": "KeyboardInterrupt",
     "evalue": "Interrupted by user",
     "output_type": "error",
     "traceback": [
      "\u001b[1;31m---------------------------------------------------------------------------\u001b[0m",
      "\u001b[1;31mKeyboardInterrupt\u001b[0m                         Traceback (most recent call last)",
      "Cell \u001b[1;32mIn[8], line 82\u001b[0m\n\u001b[0;32m     79\u001b[0m \u001b[38;5;28mprint\u001b[39m(\u001b[38;5;124m\"\u001b[39m\u001b[38;5;124mBot 🤖: Hello! Welcome to Poshem Technologies, a fair greeting will be okay for us to attend to you:\u001b[39m\u001b[38;5;124m\"\u001b[39m)\n\u001b[0;32m     81\u001b[0m \u001b[38;5;28;01mwhile\u001b[39;00m \u001b[38;5;28;01mTrue\u001b[39;00m:\n\u001b[1;32m---> 82\u001b[0m     user_input \u001b[38;5;241m=\u001b[39m \u001b[38;5;28minput\u001b[39m(\u001b[38;5;124m\"\u001b[39m\u001b[38;5;124mYou 🫥: \u001b[39m\u001b[38;5;124m\"\u001b[39m)\u001b[38;5;241m.\u001b[39mstrip()\n\u001b[0;32m     84\u001b[0m     \u001b[38;5;28;01mif\u001b[39;00m user_input\u001b[38;5;241m.\u001b[39mlower() \u001b[38;5;129;01min\u001b[39;00m [\u001b[38;5;124m\"\u001b[39m\u001b[38;5;124mi am done\u001b[39m\u001b[38;5;124m\"\u001b[39m, \u001b[38;5;124m\"\u001b[39m\u001b[38;5;124mexit\u001b[39m\u001b[38;5;124m\"\u001b[39m, \u001b[38;5;124m\"\u001b[39m\u001b[38;5;124mquit\u001b[39m\u001b[38;5;124m\"\u001b[39m]:\n\u001b[0;32m     85\u001b[0m         \u001b[38;5;28mprint\u001b[39m(\u001b[38;5;124m\"\u001b[39m\u001b[38;5;124mBot 🤖: Thanks for choosing Poshem Technologies Institution. This is your course ID. You\u001b[39m\u001b[38;5;124m'\u001b[39m\u001b[38;5;124mll get a mail from us shortly\u001b[39m\u001b[38;5;124m\"\u001b[39m)\n",
      "File \u001b[1;32m~\\AppData\\Roaming\\Python\\Python312\\site-packages\\ipykernel\\kernelbase.py:1270\u001b[0m, in \u001b[0;36mKernel.raw_input\u001b[1;34m(self, prompt)\u001b[0m\n\u001b[0;32m   1268\u001b[0m     msg \u001b[38;5;241m=\u001b[39m \u001b[38;5;124m\"\u001b[39m\u001b[38;5;124mraw_input was called, but this frontend does not support input requests.\u001b[39m\u001b[38;5;124m\"\u001b[39m\n\u001b[0;32m   1269\u001b[0m     \u001b[38;5;28;01mraise\u001b[39;00m StdinNotImplementedError(msg)\n\u001b[1;32m-> 1270\u001b[0m \u001b[38;5;28;01mreturn\u001b[39;00m \u001b[38;5;28mself\u001b[39m\u001b[38;5;241m.\u001b[39m_input_request(\n\u001b[0;32m   1271\u001b[0m     \u001b[38;5;28mstr\u001b[39m(prompt),\n\u001b[0;32m   1272\u001b[0m     \u001b[38;5;28mself\u001b[39m\u001b[38;5;241m.\u001b[39m_parent_ident[\u001b[38;5;124m\"\u001b[39m\u001b[38;5;124mshell\u001b[39m\u001b[38;5;124m\"\u001b[39m],\n\u001b[0;32m   1273\u001b[0m     \u001b[38;5;28mself\u001b[39m\u001b[38;5;241m.\u001b[39mget_parent(\u001b[38;5;124m\"\u001b[39m\u001b[38;5;124mshell\u001b[39m\u001b[38;5;124m\"\u001b[39m),\n\u001b[0;32m   1274\u001b[0m     password\u001b[38;5;241m=\u001b[39m\u001b[38;5;28;01mFalse\u001b[39;00m,\n\u001b[0;32m   1275\u001b[0m )\n",
      "File \u001b[1;32m~\\AppData\\Roaming\\Python\\Python312\\site-packages\\ipykernel\\kernelbase.py:1313\u001b[0m, in \u001b[0;36mKernel._input_request\u001b[1;34m(self, prompt, ident, parent, password)\u001b[0m\n\u001b[0;32m   1310\u001b[0m \u001b[38;5;28;01mexcept\u001b[39;00m \u001b[38;5;167;01mKeyboardInterrupt\u001b[39;00m:\n\u001b[0;32m   1311\u001b[0m     \u001b[38;5;66;03m# re-raise KeyboardInterrupt, to truncate traceback\u001b[39;00m\n\u001b[0;32m   1312\u001b[0m     msg \u001b[38;5;241m=\u001b[39m \u001b[38;5;124m\"\u001b[39m\u001b[38;5;124mInterrupted by user\u001b[39m\u001b[38;5;124m\"\u001b[39m\n\u001b[1;32m-> 1313\u001b[0m     \u001b[38;5;28;01mraise\u001b[39;00m \u001b[38;5;167;01mKeyboardInterrupt\u001b[39;00m(msg) \u001b[38;5;28;01mfrom\u001b[39;00m \u001b[38;5;28;01mNone\u001b[39;00m\n\u001b[0;32m   1314\u001b[0m \u001b[38;5;28;01mexcept\u001b[39;00m \u001b[38;5;167;01mException\u001b[39;00m:\n\u001b[0;32m   1315\u001b[0m     \u001b[38;5;28mself\u001b[39m\u001b[38;5;241m.\u001b[39mlog\u001b[38;5;241m.\u001b[39mwarning(\u001b[38;5;124m\"\u001b[39m\u001b[38;5;124mInvalid Message:\u001b[39m\u001b[38;5;124m\"\u001b[39m, exc_info\u001b[38;5;241m=\u001b[39m\u001b[38;5;28;01mTrue\u001b[39;00m)\n",
      "\u001b[1;31mKeyboardInterrupt\u001b[0m: Interrupted by user"
     ]
    }
   ],
   "source": [
    "import pickle\n",
    "import spacy\n",
    "import numpy as np\n",
    "import logging\n",
    "from datetime import datetime\n",
    "import json\n",
    "\n",
    "# Load the saved pipeline\n",
    "with open(\"intent_classifier.pkl\", \"rb\") as f:\n",
    "    loaded_pipeline = pickle.load(f)\n",
    "nlp = spacy.load(\"en_core_web_lg\")\n",
    "\n",
    "# Set up logging to file\n",
    "logging.basicConfig(\n",
    "    filename='chat_log.json',\n",
    "    level=logging.INFO,\n",
    "    format='%(message)s'\n",
    ")\n",
    "\n",
    "# Intent mapping\n",
    "target_response = {\n",
    "    0: 'greetings',\n",
    "    1: 'enrollment',\n",
    "    2: 'pricing',\n",
    "    3: 'tracking',\n",
    "    4: 'fallback'\n",
    "}\n",
    "\n",
    "# Response templates\n",
    "fallback_responses = [\n",
    "    \"Sorry, I didn’t quite understand that. Can you rephrase, read my previous prompt and respond accordingly?\",\n",
    "    \"Hmm, I'm not sure what you mean. Try asking about enrollment or pricing, read my previous prompt and respond accordingly.\",\n",
    "    \"Let’s try that again. Ask about courses, prices, or tracking progress, read my previous prompt and respond accordingly\"\n",
    "]\n",
    "\n",
    "response = {\n",
    "    'greetings': [\n",
    "        \"Nice, you are very much welcome to Poshem! What do you want to do?\\n\"\n",
    "        \"- Register for a course?\\n- Check the price of our courses?\\n- Confirm your registered courses?\"\n",
    "    ],\n",
    "    'enrollment': (\n",
    "        \"Kindly request for the course you want to register in this format:\\n\"\n",
    "        \"(e.g.) My name is Promise, I am 30 years old, B-Tech Computer Science.\\n\"\n",
    "        \"This is my phone number: 07063083925.\\n\"\n",
    "        \"I want to learn Excel.\"\n",
    "    ),\n",
    "    'pricing': \"Our pricing varies by course. Here is the breakdown...\",\n",
    "    'tracking': \"To track your course, kindly let me know your ID.\",\n",
    "    'fallback': fallback_responses\n",
    "}\n",
    "\n",
    "# Function to simulate intent prediction\n",
    "def user_input_to_model(user_input):\n",
    "    vector = nlp(user_input).vector\n",
    "    predicted_intent = loaded_pipeline.predict([vector])[0]  # Extract single prediction\n",
    "    return predicted_intent\n",
    "\n",
    "# Function to generate bot response\n",
    "def response_function(user_intent):\n",
    "    intent_label = target_response.get(user_intent, 'fallback')\n",
    "\n",
    "    if intent_label == 'fallback':\n",
    "        return np.random.choice(response['fallback'])\n",
    "\n",
    "    reply = response.get(intent_label)\n",
    "    return reply[0] if isinstance(reply, list) else reply\n",
    "\n",
    "# Chat history logging function\n",
    "def log_interaction(user_input, predicted_intent, bot_response):\n",
    "    log_entry = {\n",
    "        \"timestamp\": datetime.now().isoformat(),\n",
    "        \"user_input\": user_input,\n",
    "        \"predicted_intent\": target_response.get(predicted_intent, 'fallback'),\n",
    "        \"bot_response\": bot_response\n",
    "    }\n",
    "    logging.info(json.dumps(log_entry))\n",
    "\n",
    "# Start chatbot loop\n",
    "print(\"Bot 🤖: Hello! Welcome to Poshem Technologies, a fair greeting will be okay for us to attend to you:\")\n",
    "\n",
    "while True:\n",
    "    user_input = input(\"You 🫥: \").strip()\n",
    "\n",
    "    if user_input.lower() in [\"i am done\", \"exit\", \"quit\"]:\n",
    "        print(\"Bot 🤖: Thanks for choosing Poshem Technologies Institution. This is your course ID. You'll get a mail from us shortly\")\n",
    "        break\n",
    "\n",
    "    try:\n",
    "        predicted_intent = user_input_to_model(user_input)\n",
    "        bot_response = response_function(predicted_intent)\n",
    "        print(f\"Bot 🤖: {bot_response}\")\n",
    "\n",
    "        # Log the conversation\n",
    "        log_interaction(user_input, predicted_intent, bot_response)\n",
    "\n",
    "    except Exception as e:\n",
    "        print(\"Bot 🤖: Sorry, I couldn't process that. Please try again or ask for help.\")\n"
   ]
  },
  {
   "cell_type": "code",
   "execution_count": null,
   "id": "a145d8f8-bb53-48b6-bd6e-9eaf6188f2cf",
   "metadata": {},
   "outputs": [],
   "source": []
  },
  {
   "cell_type": "code",
   "execution_count": null,
   "id": "71bacb7e-5e73-4f61-ab5d-6b7fe86bbacb",
   "metadata": {},
   "outputs": [],
   "source": []
  },
  {
   "cell_type": "code",
   "execution_count": 183,
   "id": "74777fb0-f7c1-4bf5-b84c-c92d4bf665ad",
   "metadata": {},
   "outputs": [
    {
     "data": {
      "text/plain": [
       "'greetings'"
      ]
     },
     "execution_count": 183,
     "metadata": {},
     "output_type": "execute_result"
    }
   ],
   "source": [
    "target_response"
   ]
  },
  {
   "cell_type": "code",
   "execution_count": 181,
   "id": "a70104b5-01ec-4a01-87b1-4057fb48a0f6",
   "metadata": {},
   "outputs": [],
   "source": []
  },
  {
   "cell_type": "code",
   "execution_count": null,
   "id": "828a4126-0604-48ab-90f9-d4def4a353ee",
   "metadata": {},
   "outputs": [],
   "source": []
  }
 ],
 "metadata": {
  "kernelspec": {
   "display_name": "Python 3 (ipykernel)",
   "language": "python",
   "name": "python3"
  },
  "language_info": {
   "codemirror_mode": {
    "name": "ipython",
    "version": 3
   },
   "file_extension": ".py",
   "mimetype": "text/x-python",
   "name": "python",
   "nbconvert_exporter": "python",
   "pygments_lexer": "ipython3",
   "version": "3.12.7"
  }
 },
 "nbformat": 4,
 "nbformat_minor": 5
}
